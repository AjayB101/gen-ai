{
 "cells": [
  {
   "cell_type": "code",
   "execution_count": 3,
   "id": "eebe7745",
   "metadata": {},
   "outputs": [],
   "source": [
    "from dotenv import load_dotenv\n",
    "import os"
   ]
  },
  {
   "cell_type": "code",
   "execution_count": null,
   "id": "fbd37cc9",
   "metadata": {},
   "outputs": [],
   "source": [
    "load_dotenv()\n",
    "gemini_api_key = os.getenv(\"GOOGLE_API_KEY\")\n",
    "hf_api_key = os.getenv(\"HUGG_API_KEY\")\n",
    "os.environ[\"GOOGLE_API_KEY\"]=gemini_api_key"
   ]
  },
  {
   "cell_type": "code",
   "execution_count": 12,
   "id": "e36206ee",
   "metadata": {},
   "outputs": [],
   "source": [
    "\n",
    "from langchain_google_genai import ChatGoogleGenerativeAI\n",
    "import mdformat\n",
    "llm=ChatGoogleGenerativeAI(model=\"gemini-1.5-flash\")\n"
   ]
  },
  {
   "cell_type": "code",
   "execution_count": 14,
   "id": "1cc7a772",
   "metadata": {},
   "outputs": [],
   "source": [
    "res=llm.invoke(\"hello world in python\")"
   ]
  },
  {
   "cell_type": "code",
   "execution_count": 18,
   "id": "d4f67ca5",
   "metadata": {},
   "outputs": [
    {
     "data": {
      "text/plain": [
       "'The simplest way to print \"hello world\" in Python is:\\n\\n```python\\nprint(\"hello world\")\\n```\\n'"
      ]
     },
     "execution_count": 18,
     "metadata": {},
     "output_type": "execute_result"
    }
   ],
   "source": [
    "mdformat.text(res.content)"
   ]
  }
 ],
 "metadata": {
  "kernelspec": {
   "display_name": "genai",
   "language": "python",
   "name": "python3"
  },
  "language_info": {
   "codemirror_mode": {
    "name": "ipython",
    "version": 3
   },
   "file_extension": ".py",
   "mimetype": "text/x-python",
   "name": "python",
   "nbconvert_exporter": "python",
   "pygments_lexer": "ipython3",
   "version": "3.9.23"
  }
 },
 "nbformat": 4,
 "nbformat_minor": 5
}
