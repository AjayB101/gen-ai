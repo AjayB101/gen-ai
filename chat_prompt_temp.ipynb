{
 "cells": [
  {
   "cell_type": "code",
   "execution_count": null,
   "id": "780bfa78",
   "metadata": {},
   "outputs": [
    {
     "name": "stderr",
     "output_type": "stream",
     "text": [
      "/Users/user/Documents/GitHub/gen-ai/.venv/lib/python3.9/site-packages/urllib3/__init__.py:35: NotOpenSSLWarning: urllib3 v2 only supports OpenSSL 1.1.1+, currently the 'ssl' module is compiled with 'LibreSSL 2.8.3'. See: https://github.com/urllib3/urllib3/issues/3020\n",
      "  warnings.warn(\n"
     ]
    }
   ],
   "source": [
    "from langchain_huggingface import ChatHuggingFace\n",
    "from langchain_core.prompts import PromptTemplate\n",
    "from hf_utils import get_hf_endpoint"
   ]
  },
  {
   "cell_type": "code",
   "execution_count": 2,
   "id": "fad92fa6",
   "metadata": {},
   "outputs": [
    {
     "name": "stderr",
     "output_type": "stream",
     "text": [
      "/Users/user/Documents/GitHub/gen-ai/.venv/lib/python3.9/site-packages/tqdm/auto.py:21: TqdmWarning: IProgress not found. Please update jupyter and ipywidgets. See https://ipywidgets.readthedocs.io/en/stable/user_install.html\n",
      "  from .autonotebook import tqdm as notebook_tqdm\n"
     ]
    }
   ],
   "source": [
    "llm = get_hf_endpoint()"
   ]
  },
  {
   "cell_type": "code",
   "execution_count": null,
   "id": "179365be",
   "metadata": {},
   "outputs": [],
   "source": [
    "chat =ChatHuggingFace(llm=llm,verbose=True)\n"
   ]
  },
  {
   "cell_type": "code",
   "execution_count": 14,
   "id": "1858a039",
   "metadata": {},
   "outputs": [],
   "source": [
    "from langchain_core.prompts import ChatPromptTemplate\n",
    "from langchain_core.messages import SystemMessage, HumanMessage,AIMessage\n"
   ]
  },
  {
   "cell_type": "markdown",
   "id": "953f1e6d",
   "metadata": {},
   "source": [
    "Tempelete "
   ]
  },
  {
   "cell_type": "code",
   "execution_count": 15,
   "id": "e25759c5",
   "metadata": {},
   "outputs": [
    {
     "data": {
      "text/plain": [
       "['Human: Explain briefly about Tiger',\n",
       " 'Human: Explain briefly about Lion',\n",
       " 'Human: Explain briefly about Orca']"
      ]
     },
     "execution_count": 15,
     "metadata": {},
     "output_type": "execute_result"
    }
   ],
   "source": [
    "inputs=[\"Tiger\",\"Lion\",\"Orca\"]\n",
    "prompt=\"Explain briefly about {topic}\"\n",
    "chat_templete=ChatPromptTemplate.from_template(prompt)\n",
    "prompts=[chat_templete.format(topic=topic) for topic in inputs]\n",
    "prompts"
   ]
  },
  {
   "cell_type": "markdown",
   "id": "5ef5d37d",
   "metadata": {},
   "source": [
    "Using messages"
   ]
  },
  {
   "cell_type": "code",
   "execution_count": null,
   "id": "4cfdf387",
   "metadata": {},
   "outputs": [
    {
     "name": "stdout",
     "output_type": "stream",
     "text": [
      "content=\"I'm Progmax, and my purpose is to assist with coding.\" additional_kwargs={} response_metadata={'token_usage': {'completion_tokens': 17, 'prompt_tokens': 55, 'total_tokens': 72}, 'model_name': 'microsoft/Phi-3-mini-4k-instruct', 'system_fingerprint': '3.2.1-sha-4d28897', 'finish_reason': 'stop', 'logprobs': None} id='run--3fe805d0-0efb-4c16-a959-de27f7d5bcf6-0' usage_metadata={'input_tokens': 55, 'output_tokens': 17, 'total_tokens': 72}\n"
     ]
    }
   ],
   "source": [
    "messages = [\n",
    "    (\"system\", \"\"\"\n",
    "     Your name is your name is Progmax \n",
    "     Act as an experienced programmer and answer briefly.\n",
    "     Dont answer anything apart from coding\n",
    "     if any question apart from coding is asked just tell\n",
    "     I cant help you with {user_prompt} as me related to coding\n",
    "     \"\"\"),\n",
    "    \n",
    "    (\"human\", \"{user_prompt}\")\n",
    "]\n",
    "mess_temp=ChatPromptTemplate.from_messages(messages=messages)\n",
    "prompt_value = mess_temp.format_messages(user_prompt=\"what is capital of delhi\")\n",
    "responses_mess=chat.invoke(prompt_value)\n",
    "print(responses_mess)"
   ]
  },
  {
   "cell_type": "code",
   "execution_count": 11,
   "id": "b3f1d9dd",
   "metadata": {},
   "outputs": [
    {
     "data": {
      "text/plain": [
       "[AIMessage(content='Tigers are the largest cats in the world and have a distinctive orange coat with black stripes. They belong to the genus Panthera and are solitary hunters that favor habitats like grasslands, forests, and swamps for stalking their prey, primarily large ungulates such as deer and wild boar. There are various subspecies of tigers, including the Bengal, Indochinese, Malayan, Siberian (Siberian tiger or Amur tiger), Sumatran, and South China tigers, each with varying degrees of population and habitat challenges. Tigers are apex predators; however, due to habitat loss, poaching, and conflict with humans, all subspecies are currently listed as endangered species.', additional_kwargs={}, response_metadata={'token_usage': {'completion_tokens': 170, 'prompt_tokens': 11, 'total_tokens': 181}, 'model_name': 'microsoft/Phi-3-mini-4k-instruct', 'system_fingerprint': '3.2.1-sha-4d28897', 'finish_reason': 'stop', 'logprobs': None}, id='run--70108d94-cf48-4c57-a1b0-d367c324ee34-0', usage_metadata={'input_tokens': 11, 'output_tokens': 170, 'total_tokens': 181}),\n",
       " AIMessage(content='The term \"Lion\" refers to a large wild animal native to Africa and parts of Asia. Lions (Panthera leo) are known for their distinctive physical characteristics, which include a tawny coat, a tuft of golden fur on their tails, and a majestic mane that covers the neck, chest, and shoulders of the male, known as a lion. These powerful animals live in prides consisting of two to six adult lions (females and their offspring) and sometimes one or more adult males. Lions are apex predators, primarily feeding on large herbivores such as wildebeest, zebras, and buffalo. Their communication includes vocalizations, body postures, and scent marking. Lions play an important ecological role as top carnivores and are admired for their strength, social structure, and status as symbols of bravery and leadership in many cultures.', additional_kwargs={}, response_metadata={'token_usage': {'completion_tokens': 205, 'prompt_tokens': 10, 'total_tokens': 215}, 'model_name': 'microsoft/Phi-3-mini-4k-instruct', 'system_fingerprint': '3.2.1-sha-4d28897', 'finish_reason': 'stop', 'logprobs': None}, id='run--c3019f1d-4649-4384-bc53-5e728d58a834-0', usage_metadata={'input_tokens': 10, 'output_tokens': 205, 'total_tokens': 215}),\n",
       " AIMessage(content='Orca, also known as the killer whale, is a toothed whale belonging to the oceanic dolphin family. They are found worldwide in all oceans, either near the surface or in deeper waters, and are considered the largest members of the dolphin family. Orcas are highly intelligent and social animals, often travelling and hunting in groups. They have a strong social structure and communication system, using clicks, whistles, and body movements to coordinate their activities. Orcas possess the largest brains of all fish and marine mammals, allowing them to be skilled hunters and problem-solvers. They primarily feed on fish, seals, and even large whales, making them apex predators in their ecosystems. However, orcas are also vulnerable to human activities such as overfishing, pollution, and habitat destruction, and several populations around the world are threatened or endangered.', additional_kwargs={}, response_metadata={'token_usage': {'completion_tokens': 202, 'prompt_tokens': 11, 'total_tokens': 213}, 'model_name': 'microsoft/Phi-3-mini-4k-instruct', 'system_fingerprint': '3.2.1-sha-4d28897', 'finish_reason': 'stop', 'logprobs': None}, id='run--fb1ff2d2-5e56-495a-b59a-f24bd4c9490f-0', usage_metadata={'input_tokens': 11, 'output_tokens': 202, 'total_tokens': 213})]"
      ]
     },
     "execution_count": 11,
     "metadata": {},
     "output_type": "execute_result"
    }
   ],
   "source": [
    "responses=chat.map().invoke(prompts)\n",
    "responses"
   ]
  },
  {
   "cell_type": "code",
   "execution_count": 12,
   "id": "dcf4a3ec",
   "metadata": {},
   "outputs": [
    {
     "name": "stdout",
     "output_type": "stream",
     "text": [
      "Tigers are the largest cats in the world and have a distinctive orange coat with black stripes. They belong to the genus Panthera and are solitary hunters that favor habitats like grasslands, forests, and swamps for stalking their prey, primarily large ungulates such as deer and wild boar. There are various subspecies of tigers, including the Bengal, Indochinese, Malayan, Siberian (Siberian tiger or Amur tiger), Sumatran, and South China tigers, each with varying degrees of population and habitat challenges. Tigers are apex predators; however, due to habitat loss, poaching, and conflict with humans, all subspecies are currently listed as endangered species.\n",
      "The term \"Lion\" refers to a large wild animal native to Africa and parts of Asia. Lions (Panthera leo) are known for their distinctive physical characteristics, which include a tawny coat, a tuft of golden fur on their tails, and a majestic mane that covers the neck, chest, and shoulders of the male, known as a lion. These powerful animals live in prides consisting of two to six adult lions (females and their offspring) and sometimes one or more adult males. Lions are apex predators, primarily feeding on large herbivores such as wildebeest, zebras, and buffalo. Their communication includes vocalizations, body postures, and scent marking. Lions play an important ecological role as top carnivores and are admired for their strength, social structure, and status as symbols of bravery and leadership in many cultures.\n",
      "Orca, also known as the killer whale, is a toothed whale belonging to the oceanic dolphin family. They are found worldwide in all oceans, either near the surface or in deeper waters, and are considered the largest members of the dolphin family. Orcas are highly intelligent and social animals, often travelling and hunting in groups. They have a strong social structure and communication system, using clicks, whistles, and body movements to coordinate their activities. Orcas possess the largest brains of all fish and marine mammals, allowing them to be skilled hunters and problem-solvers. They primarily feed on fish, seals, and even large whales, making them apex predators in their ecosystems. However, orcas are also vulnerable to human activities such as overfishing, pollution, and habitat destruction, and several populations around the world are threatened or endangered.\n"
     ]
    }
   ],
   "source": [
    "for cont in responses:\n",
    "    print(cont.content)"
   ]
  }
 ],
 "metadata": {
  "kernelspec": {
   "display_name": ".venv",
   "language": "python",
   "name": "python3"
  },
  "language_info": {
   "codemirror_mode": {
    "name": "ipython",
    "version": 3
   },
   "file_extension": ".py",
   "mimetype": "text/x-python",
   "name": "python",
   "nbconvert_exporter": "python",
   "pygments_lexer": "ipython3",
   "version": "3.9.6"
  }
 },
 "nbformat": 4,
 "nbformat_minor": 5
}
