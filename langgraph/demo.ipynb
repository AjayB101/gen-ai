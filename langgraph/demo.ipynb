{
 "cells": [
  {
   "cell_type": "code",
   "execution_count": 25,
   "id": "fb04f64a",
   "metadata": {},
   "outputs": [],
   "source": [
    "import os\n",
    "from langgraph.graph import StateGraph, END\n",
    "from dotenv import load_dotenv\n"
   ]
  },
  {
   "cell_type": "code",
   "execution_count": 26,
   "id": "b3057579",
   "metadata": {},
   "outputs": [],
   "source": [
    "load_dotenv()\n",
    "api_key=os.getenv(\"API_KEY\")"
   ]
  },
  {
   "cell_type": "code",
   "execution_count": 27,
   "id": "85feca5c",
   "metadata": {},
   "outputs": [],
   "source": [
    "from langchain_core.prompts import PromptTemplate\n",
    "from langchain_groq import ChatGroq\n",
    "from markdown import markdown"
   ]
  },
  {
   "cell_type": "code",
   "execution_count": 28,
   "id": "82f43f92",
   "metadata": {},
   "outputs": [],
   "source": [
    "llm=ChatGroq(model=\"llama-3.1-8b-instant\", api_key=api_key, temperature=0)"
   ]
  },
  {
   "cell_type": "code",
   "execution_count": 29,
   "id": "a4cf50a1",
   "metadata": {},
   "outputs": [],
   "source": [
    "class AppState(dict):pass"
   ]
  },
  {
   "cell_type": "code",
   "execution_count": 30,
   "id": "f4681be5",
   "metadata": {},
   "outputs": [],
   "source": [
    "def gen_content(state:AppState)->AppState:\n",
    "    prompt=\"\"\"\n",
    "    Explain about {text} in 3 bullet ponits\n",
    "    \"\"\"\n",
    "    gen_temp=PromptTemplate.from_template(prompt)\n",
    "    chain=gen_temp|llm\n",
    "    gen_res=chain.invoke({\"text\":state[\"text\"]})\n",
    "    state[\"content\"]=gen_res.content\n",
    "    return state\n",
    "    "
   ]
  },
  {
   "cell_type": "code",
   "execution_count": 31,
   "id": "c2ccb8f5",
   "metadata": {},
   "outputs": [],
   "source": [
    "def translate(state:AppState)->AppState:\n",
    "    prompt = \"\"\"\n",
    "    translate {trans} to french\n",
    "    \"\"\"\n",
    "    trans_temp=PromptTemplate.from_template(prompt)\n",
    "    trans_chain=trans_temp|llm\n",
    "    trans_res=trans_chain.invoke({\"trans\":state[\"content\"]})\n",
    "    state[\"trans\"]=trans_res.content\n",
    "    return state\n",
    "    "
   ]
  },
  {
   "cell_type": "code",
   "execution_count": 38,
   "id": "b30a44ff",
   "metadata": {},
   "outputs": [],
   "source": [
    "wf=StateGraph(AppState)\n",
    "wf.add_node(\"generate\",gen_content)\n",
    "wf.add_node(\"translate\",translate)\n",
    "wf.set_entry_point(\"generate\")\n",
    "wf.add_edge(\"generate\",\"translate\")\n",
    "wf.add_edge(\"translate\",END)\n",
    "graph=wf.compile()\n",
    "\n",
    "\n"
   ]
  },
  {
   "cell_type": "code",
   "execution_count": null,
   "id": "7b685f7e",
   "metadata": {},
   "outputs": [],
   "source": [
    "output=graph.invoke({\"text\":\"AI\"})"
   ]
  },
  {
   "cell_type": "code",
   "execution_count": 40,
   "id": "87d9b2db",
   "metadata": {},
   "outputs": [
    {
     "data": {
      "image/png": "[encoded data removed]",
      "text/plain": [
       "<IPython.core.display.Image object>"
      ]
     },
     "execution_count": 40,
     "metadata": {},
     "output_type": "execute_result"
    }
   ],
   "source": [
    "from IPython.display import Image\n",
    "Image(graph.get_graph().draw_mermaid_png())"
   ]
  },
  {
   "cell_type": "code",
   "execution_count": null,
   "id": "cedff668",
   "metadata": {},
   "outputs": [
    {
     "data": {
      "text/plain": [
       "\"Voici trois points clés sur l'Intelligence Artificielle (IA) :\\n\\n* **Définition et Types** : L'Intelligence Artificielle fait référence au développement de systèmes informatiques capables de réaliser des tâches qui nécessitent typiquement l'intelligence humaine, telles que l'apprentissage, la résolution de problèmes, la prise de décision et la perception. Il existe plusieurs types d'IA, notamment :\\n + L'IA étroite ou faible : Conçue pour effectuer une tâche spécifique, telle que la reconnaissance faciale ou la traduction de langues.\\n + L'IA générale ou forte : Vise à créer une machine capable de réaliser n'importe quelle tâche intellectuelle que peut accomplir un humain.\\n + L'IA surintelligente : Significativement plus intelligente que les meilleures cerveaux humains, potentiellement entraînant une croissance exponentielle des progrès technologiques.\\n\\n* **Applications et Avantages** : L'IA a de nombreuses applications dans divers secteurs, notamment :\\n + Santé : Diagnostic assisté par IA, médecine personnalisée et recherche médicale.\\n + Finance : Trading et gestion de risque automatisés, service client IA.\\n + Transport : Voitures autonomes, optimisation de la route et gestion du trafic.\\n + Éducation : Plates-formes d'apprentissage basées sur l'IA, apprentissage adaptatif et éducation personnalisée.\\n\\n* **Défis et Limitations** : Même si l'IA a fait des progrès significatifs, elle est encore confrontée à plusieurs défis et limitations, notamment :\\n + Qualité et disponibilité des données : L'IA nécessite de grandes quantités de données de haute qualité pour apprendre et s'améliorer.\\n + Préjugés et équité : Les systèmes d'IA peuvent perpétuer des préjugés et discriminer certaines groupes.\\n + Explicabilité et transparence : Les processus de prise de décision de l'IA peuvent être difficiles à comprendre et à interpréter.\\n + Déplacement des emplois : L'IA peut automatiser certaines tâches, potentiellement déplaçant les travailleurs humains.\""
      ]
     },
     "execution_count": 34,
     "metadata": {},
     "output_type": "execute_result"
    }
   ],
   "source": [
    "output"
   ]
  }
 ],
 "metadata": {
  "kernelspec": {
   "display_name": "graph",
   "language": "python",
   "name": "python3"
  },
  "language_info": {
   "codemirror_mode": {
    "name": "ipython",
    "version": 3
   },
   "file_extension": ".py",
   "mimetype": "text/x-python",
   "name": "python",
   "nbconvert_exporter": "python",
   "pygments_lexer": "ipython3",
   "version": "3.9.23"
  }
 },
 "nbformat": 4,
 "nbformat_minor": 5
}
