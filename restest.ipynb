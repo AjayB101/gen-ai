{
 "cells": [
  {
   "cell_type": "markdown",
   "id": "88c5cda3",
   "metadata": {},
   "source": [
    "Find the maximum product in a array "
   ]
  },
  {
   "cell_type": "code",
   "execution_count": 2,
   "id": "1c8b1ddb",
   "metadata": {},
   "outputs": [
    {
     "name": "stdout",
     "output_type": "stream",
     "text": [
      "33 11 -11 -9\n",
      "363\n"
     ]
    }
   ],
   "source": [
    "def maxprod(arr):\n",
    "    max1=max2=float(\"-inf\")\n",
    "    min1=min2=float(\"inf\")\n",
    "    for num in arr:\n",
    "        if num>max1:\n",
    "            max2=max1\n",
    "            max1=num\n",
    "        elif num>max2:\n",
    "            max2=num\n",
    "        if num <min1:\n",
    "            min2=min1\n",
    "            min1=num\n",
    "        elif num<min2:\n",
    "            min2=num\n",
    "    print(max1,max2,min1,min2)\n",
    "    return max(max1*max2,min1*min2)\n",
    "print(maxprod([1,2,-11,33,11,-9]))"
   ]
  },
  {
   "cell_type": "markdown",
   "id": "0754f639",
   "metadata": {},
   "source": [
    "Move zeros to the last without affecting the order"
   ]
  },
  {
   "cell_type": "code",
   "execution_count": 3,
   "id": "ce04cfd9",
   "metadata": {},
   "outputs": [
    {
     "name": "stdout",
     "output_type": "stream",
     "text": [
      "[1, 2, 2, 7, 9, 7, 12, 12, -1, 0, 0, 0, 0, 0, 0]\n"
     ]
    }
   ],
   "source": [
    "def move0(arr):\n",
    "    res=[]\n",
    "    zero_count=0\n",
    "    for num in arr:\n",
    "        if num!=0:\n",
    "            res.append(num)\n",
    "        else:\n",
    "            zero_count+=1\n",
    "    res+=[0]*zero_count\n",
    "    return res\n",
    "print(move0([1,2,0,2,0,7,9,7,0,0,0,12,12,-1,0]))"
   ]
  },
  {
   "cell_type": "markdown",
   "id": "0d136061",
   "metadata": {},
   "source": [
    "Fibonochi"
   ]
  },
  {
   "cell_type": "code",
   "execution_count": 6,
   "id": "cda2da1c",
   "metadata": {},
   "outputs": [
    {
     "name": "stdout",
     "output_type": "stream",
     "text": [
      "0\n",
      "1\n",
      "1\n",
      "2\n",
      "3\n",
      "5\n"
     ]
    }
   ],
   "source": [
    "def fibonochi(num):\n",
    "    a,b=0,1\n",
    "    for _ in range(num):\n",
    "        print(a)\n",
    "        a,b=b,a+b\n",
    "fibonochi(6)\n",
    "    "
   ]
  },
  {
   "cell_type": "markdown",
   "id": "66a98933",
   "metadata": {},
   "source": [
    "Palindrome"
   ]
  },
  {
   "cell_type": "code",
   "execution_count": 12,
   "id": "d0a86972",
   "metadata": {},
   "outputs": [
    {
     "name": "stdout",
     "output_type": "stream",
     "text": [
      "Palindrome\n"
     ]
    }
   ],
   "source": [
    "def pali(str):\n",
    "    start,end=0,len(str)-1\n",
    "    for _ in range(start,end):\n",
    "        if str[start]!=str[end]:\n",
    "            print(\"Not a Palindrome\")\n",
    "            return\n",
    "        else:\n",
    "            start+=1\n",
    "            end-=1\n",
    "    print(\"Palindrome\")\n",
    "pali(\"amma\")\n",
    "    \n",
    "            \n",
    "             "
   ]
  },
  {
   "cell_type": "markdown",
   "id": "63a546fe",
   "metadata": {},
   "source": [
    "Armstrong"
   ]
  },
  {
   "cell_type": "code",
   "execution_count": 2,
   "id": "2a324320",
   "metadata": {},
   "outputs": [
    {
     "name": "stdout",
     "output_type": "stream",
     "text": [
      "Not a Armstrong\n"
     ]
    }
   ],
   "source": [
    "def armstrong(n):\n",
    "    temp=n\n",
    "    rev=0\n",
    "    order=len(str(n))\n",
    "    while n:\n",
    "        last=n%10\n",
    "        rev+=last**order\n",
    "        n=n//10\n",
    "    return \"Armtrong\" if  temp==rev else \"Not a Armstrong\"\n",
    "print(armstrong(1513))\n"
   ]
  },
  {
   "cell_type": "markdown",
   "id": "c8209b9c",
   "metadata": {},
   "source": [
    "Reverse a senctence"
   ]
  },
  {
   "cell_type": "code",
   "execution_count": 8,
   "id": "4bec5164",
   "metadata": {},
   "outputs": [
    {
     "name": "stdout",
     "output_type": "stream",
     "text": [
      "ajay is name My\n"
     ]
    }
   ],
   "source": [
    "def rev(str):\n",
    "    split=str.split(\" \")\n",
    "    rev=\" \".join (split[::-1])\n",
    "    return rev\n",
    "    \n",
    "print(rev(\"My name is ajay\"))"
   ]
  },
  {
   "cell_type": "markdown",
   "id": "ebfedd00",
   "metadata": {},
   "source": [
    "Case switch"
   ]
  },
  {
   "cell_type": "code",
   "execution_count": 9,
   "id": "cd1111fe",
   "metadata": {},
   "outputs": [
    {
     "name": "stdout",
     "output_type": "stream",
     "text": [
      "mY nAME iS ajay b\n"
     ]
    }
   ],
   "source": [
    "def case_switch(str):\n",
    "    res=\"\"\n",
    "    for ch in str:\n",
    "        if ch>=\"A\" and ch<=\"Z\":\n",
    "            res+=chr(ord(ch)+32)\n",
    "        elif ch>=\"a\" and ch<=\"z\":\n",
    "            res+=chr(ord(ch)-32)\n",
    "        else:\n",
    "            res+=ch\n",
    "    return res\n",
    "\n",
    "print(case_switch(\"My Name Is AJAY B\"))\n",
    "            "
   ]
  },
  {
   "cell_type": "markdown",
   "id": "32e96143",
   "metadata": {},
   "source": [
    "Title casing"
   ]
  },
  {
   "cell_type": "code",
   "execution_count": 15,
   "id": "df0139d4",
   "metadata": {},
   "outputs": [
    {
     "name": "stdout",
     "output_type": "stream",
     "text": [
      "My Name Is Ajay\n"
     ]
    }
   ],
   "source": [
    "def title_case(str):\n",
    "    is_first_letter=True\n",
    "    res=\"\"\n",
    "    for ch in str:\n",
    "        if ch ==\" \":\n",
    "            res+=ch\n",
    "            is_first_letter=True\n",
    "        elif is_first_letter and  ch>=\"a\" and ch<=\"z\":\n",
    "            res+=chr(ord(ch)-32)\n",
    "            is_first_letter=False\n",
    "        elif not is_first_letter and ch>=\"A\" and ch<=\"Z\":\n",
    "            res+=chr(ord(ch)+32)\n",
    "        else:\n",
    "            res+=ch\n",
    "            is_first_letter=False\n",
    "            \n",
    "    return res\n",
    "\n",
    "print(title_case(\"mY nAME iS aJAY\"))\n",
    "            "
   ]
  },
  {
   "cell_type": "markdown",
   "id": "517aaa7e",
   "metadata": {},
   "source": [
    "Find maximum in array"
   ]
  },
  {
   "cell_type": "code",
   "execution_count": null,
   "id": "22b3d95e",
   "metadata": {},
   "outputs": [
    {
     "name": "stdout",
     "output_type": "stream",
     "text": [
      "11\n"
     ]
    }
   ],
   "source": [
    "def find_max(arr):\n",
    "    max_num=float(\"-inf\")\n",
    "    for num in arr:\n",
    "        if num>max_num:\n",
    "            max_num=num\n",
    "    print(max_num)\n",
    "find_max([5, 2, 9, 11, 7])"
   ]
  },
  {
   "cell_type": "markdown",
   "id": "6027e953",
   "metadata": {},
   "source": [
    "Find sec maximum in array"
   ]
  },
  {
   "cell_type": "code",
   "execution_count": null,
   "id": "08efa590",
   "metadata": {},
   "outputs": [
    {
     "name": "stdout",
     "output_type": "stream",
     "text": [
      "11\n"
     ]
    }
   ],
   "source": [
    "def sec_max(arr):\n",
    "    max1=max2=float(\"-inf\")\n",
    "    for num in arr:\n",
    "        if num >max1:\n",
    "            max2=max1\n",
    "            max1=num\n",
    "        elif num>max2:\n",
    "            max2=num\n",
    "    print(max2)\n",
    "sec_max([5, 2, 91, 11, 7])"
   ]
  },
  {
   "cell_type": "markdown",
   "id": "8c074153",
   "metadata": {},
   "source": [
    "Two sum"
   ]
  },
  {
   "cell_type": "code",
   "execution_count": 18,
   "id": "f4dadcec",
   "metadata": {},
   "outputs": [
    {
     "name": "stdout",
     "output_type": "stream",
     "text": [
      "(1, 0)\n"
     ]
    }
   ],
   "source": [
    "def two_sum(n:list,target:int):\n",
    "    num_dict={}\n",
    "    for i,num in enumerate(n):\n",
    "        complement=target-num\n",
    "        if complement in num_dict:\n",
    "            return i,num_dict[complement]\n",
    "        num_dict[num]=i\n",
    "print(two_sum([1,2,3,4,5],3))"
   ]
  },
  {
   "cell_type": "markdown",
   "id": "c7147076",
   "metadata": {},
   "source": [
    "Diagnol sum on 2d array"
   ]
  },
  {
   "cell_type": "code",
   "execution_count": 19,
   "id": "eecdf019",
   "metadata": {},
   "outputs": [
    {
     "name": "stdout",
     "output_type": "stream",
     "text": [
      "15\n"
     ]
    }
   ],
   "source": [
    "def sum_diag(arr):\n",
    "    sum=0\n",
    "    for i in range(len(arr)):\n",
    "       \n",
    "            sum+=arr[i][i]\n",
    "    return sum\n",
    "print(sum_diag([[1,2,3],[4,5,6],[7,8,9]]))"
   ]
  },
  {
   "cell_type": "markdown",
   "id": "3ae140ac",
   "metadata": {},
   "source": [
    "length of longest substring"
   ]
  },
  {
   "cell_type": "code",
   "execution_count": null,
   "id": "a5b401fe",
   "metadata": {},
   "outputs": [],
   "source": [
    "def lengthOfLongestSubstring(self, s):\n",
    "        last_seen,left,best={},0,0\n",
    "        for right,ch in enumerate(s):\n",
    "            if ch in last_seen and last_seen[ch]>=left:\n",
    "                left=last_seen[ch]+1\n",
    "            last_seen[ch]=right\n",
    "            best=max(best,right - left  + 1)\n",
    "        return best"
   ]
  },
  {
   "cell_type": "markdown",
   "id": "2f4680dd",
   "metadata": {},
   "source": [
    "Decorator"
   ]
  },
  {
   "cell_type": "code",
   "execution_count": null,
   "id": "79c0ad77",
   "metadata": {},
   "outputs": [
    {
     "name": "stdout",
     "output_type": "stream",
     "text": [
      "('Vanilla',)\n",
      "Adding sprinkels\n",
      "Here is your icecream with Vanilla flavour\n"
     ]
    }
   ],
   "source": [
    "def add_sprinkles(func):\n",
    "    def wrapper(*args,**kwargs):\n",
    "        print(*args)\n",
    "        print(\"Adding sprinkels\")\n",
    "        func(*args,**kwargs)\n",
    "    return wrapper\n",
    "@add_sprinkles\n",
    "def get_ice_cream(flavor):\n",
    "    print(f\"Here is your icecream with {flavor} flavour\")\n",
    "get_ice_cream(\"Vanilla\")\n",
    "    "
   ]
  },
  {
   "cell_type": "markdown",
   "id": "61c32f74",
   "metadata": {},
   "source": [
    "Custom Decorator: Log Function Execution Time"
   ]
  },
  {
   "cell_type": "code",
   "execution_count": null,
   "id": "dfacc084",
   "metadata": {},
   "outputs": [
    {
     "name": "stdout",
     "output_type": "stream",
     "text": [
      "[START] the function delay_func has started\n",
      "Done\n",
      "[END] the function delay_func took 2.001\n"
     ]
    }
   ],
   "source": [
    "from functools import wraps\n",
    "import time    \n",
    "def calculate_time(func):\n",
    "    @wraps(func)\n",
    "    def wrapper(*args,**kwargs):\n",
    "        start_time=time.time()\n",
    "        print(f\"[START] the function {func.__name__} has started\")\n",
    "        func(*args,**kwargs)\n",
    "        end_time=time.time()\n",
    "        print(f\"[END] the function {func.__name__} took {end_time - start_time:.3f}\")\n",
    "    return wrapper\n",
    "@calculate_time\n",
    "def delay_func():\n",
    "    time.sleep(2)\n",
    "    print(\"Done\")\n",
    "\n",
    "delay_func()"
   ]
  },
  {
   "cell_type": "markdown",
   "id": "0d54dfdb",
   "metadata": {},
   "source": [
    "Iterator"
   ]
  },
  {
   "cell_type": "code",
   "execution_count": null,
   "id": "52512add",
   "metadata": {},
   "outputs": [
    {
     "name": "stdout",
     "output_type": "stream",
     "text": [
      "1\n",
      "2\n",
      "3\n"
     ]
    }
   ],
   "source": [
    "list1=[1,2,3]\n",
    "l=iter(list1)\n",
    "print(next(l))\n",
    "print(next(l))\n",
    "print(next(l))"
   ]
  },
  {
   "cell_type": "markdown",
   "id": "cf9ee6a4",
   "metadata": {},
   "source": [
    "Generators"
   ]
  },
  {
   "cell_type": "code",
   "execution_count": null,
   "id": "c0cf33ee",
   "metadata": {},
   "outputs": [
    {
     "name": "stdout",
     "output_type": "stream",
     "text": [
      "1\n",
      "4\n",
      "9\n",
      "16\n",
      "25\n",
      "36\n",
      "49\n",
      "64\n",
      "81\n",
      "100\n"
     ]
    }
   ],
   "source": [
    "def square():\n",
    "    n=1\n",
    "    while n<=10:\n",
    "        yield n*n\n",
    "        n+=1\n",
    "values=square()\n",
    "for i in values:\n",
    "    print(i)\n",
    "    "
   ]
  },
  {
   "cell_type": "markdown",
   "id": "51554156",
   "metadata": {},
   "source": [
    "MultiThreading"
   ]
  },
  {
   "cell_type": "code",
   "execution_count": null,
   "id": "278a3868",
   "metadata": {},
   "outputs": [
    {
     "name": "stdout",
     "output_type": "stream",
     "text": [
      "Hello\n",
      "Hi\n"
     ]
    },
    {
     "name": "stdout",
     "output_type": "stream",
     "text": [
      "Hello\n",
      "Hi\n",
      "HelloHi\n",
      "\n",
      "HelloHi\n",
      "\n",
      "Hi\n",
      "Hello\n",
      "Hi\n",
      "Hello\n",
      "HelloHi\n",
      "\n",
      "HelloHi\n",
      "\n",
      "HiHello\n",
      "\n",
      "Hello\n",
      "Hi\n",
      "HiHello\n",
      "\n",
      "Hello\n",
      "Hi\n",
      "Hello\n",
      "Hi\n",
      "HiHello\n",
      "\n",
      "Hello\n",
      "Hi\n",
      "Hello\n",
      "Hi\n",
      "HiHello\n",
      "\n",
      "HiHello\n",
      "\n",
      "Hello\n",
      "Hi\n",
      "Hello\n",
      "Hi\n",
      "Hello\n",
      "Hi\n",
      "Hello\n",
      "Hi\n",
      "Hello\n",
      "Hi\n",
      "Hello\n",
      "Hi\n",
      "Hello\n",
      "Hi\n",
      "HelloHi\n",
      "\n",
      "HelloHi\n",
      "\n",
      "Hi\n",
      "Hello\n",
      "Hi\n",
      "Hello\n",
      "HiHello\n",
      "\n",
      "Hello\n",
      "Hi\n",
      "HiHello\n",
      "\n",
      "Hi\n",
      "Hello\n",
      "Hi\n",
      "Hello\n",
      "Hi\n",
      "Hello\n",
      "HiHello\n",
      "\n",
      "HelloHi\n",
      "\n",
      "Hi\n",
      "Hello\n",
      "HiHello\n",
      "\n",
      "HiHello\n",
      "\n",
      "Hello\n",
      "Hi\n",
      "HelloHi\n",
      "\n",
      "Hi\n",
      "Hello\n",
      "Hi\n",
      "Hello\n",
      "Hi\n",
      "Hello\n",
      "Hi\n",
      "Hello\n",
      "Hi\n",
      "Hello\n",
      "Hi\n",
      "Hello\n",
      "Hi\n",
      "Hello\n",
      "HiHello\n",
      "\n",
      "Hello\n",
      "Hi\n",
      "Hello\n",
      "Hi\n",
      "Hello\n",
      "Hi\n",
      "Hello\n",
      "Hi\n",
      "Hello\n",
      "Hi\n",
      "HiHello\n",
      "\n",
      "HiHello\n",
      "\n",
      "HelloHi\n",
      "\n",
      "Hi\n",
      "Hello\n",
      "HiHello\n",
      "\n",
      "HelloHi\n",
      "\n",
      "HiHello\n",
      "\n",
      "Hello\n",
      "Hi\n",
      "HiHello\n",
      "\n",
      "HiHello\n",
      "\n",
      "HiHello\n",
      "\n",
      "HiHello\n",
      "\n",
      "Hello\n",
      "Hi\n",
      "Hello\n",
      "Hi\n",
      "Hello\n",
      "Hi\n",
      "HelloHi\n",
      "\n",
      "HelloHi\n",
      "\n",
      "Hi\n",
      "Hello\n",
      "Hi\n",
      "Hello\n",
      "HiHello\n",
      "\n",
      "HiHello\n",
      "\n",
      "HiHello\n",
      "\n",
      "Hello\n",
      "Hi\n",
      "Hello\n",
      "Hi\n",
      "Hello\n",
      "Hi\n",
      "Hello\n",
      "Hi\n",
      "Hello\n",
      "Hi\n",
      "HelloHi\n",
      "\n",
      "Hi\n",
      "Hello\n",
      "HiHello\n",
      "\n",
      "HelloHi\n",
      "\n",
      "Hi\n",
      "Hello\n",
      "Hi\n",
      "Hello\n",
      "Hi\n",
      "Hello\n",
      "Hi\n",
      "Hello\n",
      "HiHello\n",
      "\n",
      "Hello\n",
      "Hi\n",
      "HiHello\n",
      "\n",
      "Hello\n",
      "Hi\n",
      "Hello\n",
      "Hi\n",
      "HelloHi\n",
      "\n",
      "Hi\n",
      "Hello\n",
      "HiHello\n",
      "\n",
      "Hi\n",
      "Hello\n",
      "HiHello\n",
      "\n"
     ]
    }
   ],
   "source": [
    "from threading import Thread\n",
    "from time import sleep\n",
    "class Hello(Thread):\n",
    "    def run(self):\n",
    "        for _ in range(100):\n",
    "            print(\"Hello\")\n",
    "            sleep(1)\n",
    "class Hi(Thread):\n",
    "    def run(self):\n",
    "        for _ in range(100):\n",
    "            print(\"Hi\")\n",
    "            sleep(1)\n",
    "            \n",
    "\n",
    "t1=Hello()\n",
    "t2=Hi()\n",
    "t1.start()\n",
    "t2.start()"
   ]
  }
 ],
 "metadata": {
  "kernelspec": {
   "display_name": ".venv",
   "language": "python",
   "name": "python3"
  },
  "language_info": {
   "codemirror_mode": {
    "name": "ipython",
    "version": 3
   },
   "file_extension": ".py",
   "mimetype": "text/x-python",
   "name": "python",
   "nbconvert_exporter": "python",
   "pygments_lexer": "ipython3",
   "version": "3.13.3"
  }
 },
 "nbformat": 4,
 "nbformat_minor": 5
}
