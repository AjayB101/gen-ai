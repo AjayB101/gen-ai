{
 "cells": [
  {
   "cell_type": "markdown",
   "id": "d87d1b5a",
   "metadata": {},
   "source": [
    "Max product "
   ]
  },
  {
   "cell_type": "code",
   "execution_count": null,
   "id": "7f7ee9e6",
   "metadata": {},
   "outputs": [],
   "source": [
    "def max_product(arr):\n",
    "    max1 = max2 = float(\"-inf\")\n",
    "    min1 = min2 = float(\"inf\")\n",
    "    for num in arr:\n",
    "        if num > max1:\n",
    "            print(num, \" inside max1\")\n",
    "            max2 = max1\n",
    "            max1 = num\n",
    "        elif num > max2:\n",
    "            print(num, \" inside max2\")\n",
    "            max2 = num\n",
    "        if num < min1:\n",
    "            print(num, \" inside min1\")\n",
    "            min2 = min1\n",
    "            min1 = num\n",
    "        elif num < min2:\n",
    "            print(num, \" inside min2\")\n",
    "            min2 = num\n",
    "    return max(max1*max2, min1*min2)"
   ]
  },
  {
   "cell_type": "markdown",
   "id": "eb37f868",
   "metadata": {},
   "source": [
    "Move zeros to the last "
   ]
  },
  {
   "cell_type": "code",
   "execution_count": null,
   "id": "a077b0f5",
   "metadata": {},
   "outputs": [],
   "source": [
    "def move_zeros(arr):\n",
    "    zero_count = 0\n",
    "    my_arr = []\n",
    "    for num in arr:\n",
    "        if num == 0:\n",
    "            zero_count += 1\n",
    "        else:\n",
    "            my_arr.append(num)\n",
    "    my_arr += [0]*zero_count\n",
    "    print(my_arr)\n"
   ]
  },
  {
   "cell_type": "markdown",
   "id": "8cdef05f",
   "metadata": {},
   "source": [
    "Fibbonochi"
   ]
  },
  {
   "cell_type": "code",
   "execution_count": 1,
   "id": "a28ee84c",
   "metadata": {},
   "outputs": [
    {
     "name": "stdout",
     "output_type": "stream",
     "text": [
      "[0, 1, 1, 2, 3, 5]\n"
     ]
    }
   ],
   "source": [
    "def fibbonochi(n):\n",
    "    sequence = []\n",
    "    a, b = 0, 1\n",
    "    for _ in range(n):\n",
    "        sequence.append(a)\n",
    "        a, b = b, a+b\n",
    "    print(sequence)\n",
    "\n",
    "\n",
    "fibbonochi(6)"
   ]
  },
  {
   "cell_type": "markdown",
   "id": "b38ab6f2",
   "metadata": {},
   "source": [
    "PALINDROME"
   ]
  },
  {
   "cell_type": "code",
   "execution_count": null,
   "id": "fa6dec41",
   "metadata": {},
   "outputs": [
    {
     "name": "stdout",
     "output_type": "stream",
     "text": [
      "No a pali\n"
     ]
    }
   ],
   "source": [
    "def pali(s):\n",
    "    s=s.lower()\n",
    "    i,j=0,len(s)-1\n",
    "    while i <j:\n",
    "        if s[i]!=s[j]:\n",
    "            print(\"No a pali\")\n",
    "            return\n",
    "        i+=1\n",
    "        j-=1\n",
    "    print(\"Pali\")\n",
    "pali(\"Amma\")\n",
    "            "
   ]
  },
  {
   "cell_type": "markdown",
   "id": "16c12732",
   "metadata": {},
   "source": [
    "ARMSTRONG"
   ]
  },
  {
   "cell_type": "code",
   "execution_count": null,
   "id": "b573c141",
   "metadata": {},
   "outputs": [
    {
     "name": "stdout",
     "output_type": "stream",
     "text": [
      "True\n"
     ]
    }
   ],
   "source": [
    "def armstrong(num):\n",
    "    temp = num\n",
    "    sum_num=0\n",
    "    order=len(str(num))\n",
    "    while temp>0:\n",
    "        digit=temp%10\n",
    "        sum_num=sum_num+digit**order\n",
    "        temp//=10\n",
    "    print(num==sum_num)\n",
    "armstrong(153)\n",
    "\n",
    "\n"
   ]
  },
  {
   "cell_type": "markdown",
   "id": "872fdb66",
   "metadata": {},
   "source": [
    "Reverese scentence"
   ]
  },
  {
   "cell_type": "code",
   "execution_count": 14,
   "id": "7853980a",
   "metadata": {},
   "outputs": [
    {
     "data": {
      "text/plain": [
       "'developer GenAI a am I'"
      ]
     },
     "execution_count": 14,
     "metadata": {},
     "output_type": "execute_result"
    }
   ],
   "source": [
    "def rev_scentence(str):\n",
    "    word_arr=str.split()\n",
    "    word_arr=word_arr[::-1]\n",
    "    return \" \".join(word_arr)\n",
    "rev_scentence(\"I am a GenAI developer\")"
   ]
  },
  {
   "cell_type": "markdown",
   "id": "56f7dc14",
   "metadata": {},
   "source": [
    "CAse Switch"
   ]
  },
  {
   "cell_type": "code",
   "execution_count": 17,
   "id": "44ef7605",
   "metadata": {},
   "outputs": [
    {
     "name": "stdout",
     "output_type": "stream",
     "text": [
      "aJaY bv\n"
     ]
    }
   ],
   "source": [
    "def switch_case(st):\n",
    "    res=\"\"\n",
    "    for ch in st:\n",
    "        if ch>=\"a\" and ch<=\"z\":\n",
    "            res+=chr(ord(ch)-32)\n",
    "        elif ch>=\"A\" and ch<=\"Z\":\n",
    "            res+=chr(ord(ch)+32)\n",
    "        else :\n",
    "            res+=ch\n",
    "    print(res)\n",
    "switch_case(\"AjAy BV\")"
   ]
  },
  {
   "cell_type": "markdown",
   "id": "f70817c2",
   "metadata": {},
   "source": [
    "Manul title case"
   ]
  },
  {
   "cell_type": "code",
   "execution_count": 21,
   "id": "f19b1547",
   "metadata": {},
   "outputs": [
    {
     "name": "stdout",
     "output_type": "stream",
     "text": [
      "Genai Developer In Epam\n"
     ]
    }
   ],
   "source": [
    "def title_case(str):\n",
    "    res=\"\"\n",
    "    new_word=True\n",
    "    for ch in str:\n",
    "        if ch==\" \":\n",
    "            res+=ch\n",
    "            new_word=True\n",
    "        elif new_word and ch>=\"a\" and ch<=\"z\":\n",
    "            res+=chr(ord(ch) - 32)\n",
    "            new_word=False\n",
    "            \n",
    "        elif not new_word and ch>=\"A\" and ch<=\"Z\":\n",
    "            res+=chr(ord(ch) + 32)\n",
    "        else:\n",
    "            res+=ch\n",
    "            new_word=False\n",
    "        \n",
    "    print(res)\n",
    "title_case(\"genAI developer in epam\")\n",
    "            \n",
    "        \n",
    "        "
   ]
  },
  {
   "cell_type": "markdown",
   "id": "e62ddfb1",
   "metadata": {},
   "source": [
    "Find maximum in array"
   ]
  },
  {
   "cell_type": "code",
   "execution_count": 25,
   "id": "8617b83b",
   "metadata": {},
   "outputs": [
    {
     "name": "stdout",
     "output_type": "stream",
     "text": [
      "11\n"
     ]
    }
   ],
   "source": [
    "def find_max(arr):\n",
    "    max_num=float(\"-inf\")\n",
    "    for num in arr:\n",
    "        if num>max_num:\n",
    "            max_num=num\n",
    "    print(max_num)\n",
    "find_max([5, 2, 9, 11, 7])"
   ]
  },
  {
   "cell_type": "markdown",
   "id": "e85d3662",
   "metadata": {},
   "source": [
    "Find sec maximum in array"
   ]
  },
  {
   "cell_type": "code",
   "execution_count": 27,
   "id": "d18c158e",
   "metadata": {},
   "outputs": [
    {
     "name": "stdout",
     "output_type": "stream",
     "text": [
      "11\n"
     ]
    }
   ],
   "source": [
    "def sec_max(arr):\n",
    "    max1=max2=float(\"-inf\")\n",
    "    for num in arr:\n",
    "        if num >max1:\n",
    "            max2=max1\n",
    "            max1=num\n",
    "        elif num>max2:\n",
    "            max2=num\n",
    "    print(max2)\n",
    "sec_max([5, 2, 91, 11, 7])"
   ]
  },
  {
   "cell_type": "code",
   "execution_count": null,
   "id": "75d21112",
   "metadata": {},
   "outputs": [],
   "source": []
  }
 ],
 "metadata": {
  "kernelspec": {
   "display_name": ".venv",
   "language": "python",
   "name": "python3"
  },
  "language_info": {
   "codemirror_mode": {
    "name": "ipython",
    "version": 3
   },
   "file_extension": ".py",
   "mimetype": "text/x-python",
   "name": "python",
   "nbconvert_exporter": "python",
   "pygments_lexer": "ipython3",
   "version": "3.13.3"
  }
 },
 "nbformat": 4,
 "nbformat_minor": 5
}
