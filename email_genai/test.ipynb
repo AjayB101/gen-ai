{
 "cells": [
  {
   "cell_type": "code",
   "execution_count": 81,
   "id": "c62f68cf",
   "metadata": {},
   "outputs": [],
   "source": [
    "from langchain_groq import ChatGroq\n",
    "\n",
    "llm = ChatGroq(\n",
    "    model=\"llama-3.1-8b-instant\",\n",
    "    temperature=0,\n",
    "    max_tokens=None,\n",
    "    timeout=None,\n",
    "    api_key=\"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\",\n",
    "    max_retries=2,\n",
    "    # other params...\n",
    ")"
   ]
  },
  {
   "cell_type": "code",
   "execution_count": 82,
   "id": "15478ac1",
   "metadata": {},
   "outputs": [
    {
     "data": {
      "text/plain": [
       "\"\\n\\n\\n\\n\\n\\n\\n\\n\\n\\n\\n\\n\\n\\n\\n\\n\\n \\n\\n\\n\\n\\nDevOps Internship in Bangalore at Sigmoid\\n\\n\\n\\n\\n\\n\\n\\n\\n\\n\\n\\n\\n\\n\\n\\n\\n\\n\\n\\n\\n\\n\\n\\n\\n\\n\\n \\n\\n\\n\\n\\n\\n\\n\\n\\n\\n\\n\\n\\n\\n\\n\\n\\n\\n\\n\\n\\n\\nClose\\n\\n\\n\\n\\n\\n\\n\\n\\n\\n\\n\\n\\n\\n\\n\\n\\n\\n\\nCancel\\nClose\\n\\n\\n\\n\\n\\n\\n\\n\\n\\n\\n\\n\\n\\n\\n\\n\\n\\n\\nClose\\nClose\\n\\n\\n\\n\\n\\n\\n\\n\\n\\n\\n\\n\\n\\n\\n\\n\\n\\n\\nClose\\n\\n\\n\\n\\n\\n\\n\\n\\n\\n\\n\\n\\n\\n\\n\\nCancel\\nYes\\n\\n\\n\\n\\n\\n\\n\\n\\n\\n\\n\\n\\n        Oops, your browser does not support Javascript. Please use Internshala in another browser.\\n    \\n\\n\\n\\n\\n            Loading, please wait...\\n        \\n\\n\\n\\n\\n\\n\\n\\n\\n\\n\\n\\n\\n\\n\\n\\n\\n\\n\\n\\n\\n\\n\\n\\n\\n\\n\\n\\n\\n\\n\\n\\n\\n\\n\\n\\n\\n\\n\\n\\n\\n\\n\\n\\n                                        Student\\n                                    \\n\\n                                        Employer / T&P\\n                                    \\n\\n\\n\\n\\n\\n\\n\\n\\n\\n                                    Login with Google\\n                                \\n\\n\\n\\n\\nOR\\n\\n\\n\\n\\n\\n\\nEmail\\n\\n\\n\\nPassword\\n\\n\\n\\nForgot password?\\n\\n\\nLogin\\n\\n\\n\\n                                    New to Internshala? Register (Student / Company)\\n                                \\n\\n\\n\\n\\n\\n\\n\\n\\n\\n\\n\\n                Your account is put on hold.\\n\\n\\n                Your account is put on hold.\\n\\n\\n\\n\\n                    What happened?\\n                \\n\\n                    We have determined that this account is violation of Internshala's rules.\\n                \\n\\n                    Specifically for,\\n                \\n\\n\\n\\n\\n\\n                    If you wish to appeal this, or seek further clarification, please contact our team at complaints@internshala.com\\n\\n\\n\\n\\n\\n                        If this has happened by mistake, it will automatically be reverted within 24 hours.\\n                    \\n\\n\\n\\n\\n\\n\\n\\n\\n\\n\\n\\nInternships\\n\\n\\nJobs\\n\\n\\n\\n\\n        Certification Courses                                    \\n            OFFER                            \\n\\n\\n\\n\\n\\n\\nPlacement Guarantee Courses\\n\\n\\n\\n\\nContact Us\\n\\n\\n\\nRegister - As a Student\\n\\n\\nRegister - As an Employer\\n\\n\\nLogin\\n                        \\n\\n\\n\\n\\n\\n\\n\\n\\n\\n\\n\\n\\n \\n\\n\\n\\n\\n\\n                                Register\\n                            \\n\\n\\n\\n\\n\\n\\n\\n\\nInternships\\n        \\n\\n\\n\\n\\n\\n\\n\\n                                Top Locations                                                            \\n\\n\\n\\n\\n\\n                                Profile                                                            \\n\\n\\n\\n\\n\\n                                Top Categories                                                            \\n\\n\\n\\n\\n\\n                                Explore More Internships                                                            \\n\\n\\n\\n\\n\\n                                Placement Guarantee Courses                                                                        \\n                                            NEW                                        \\n\\n\\n\\n\\n\\n\\n\\nWork from Home\\nInternship in Bangalore\\nInternship in Delhi\\nInternship in Hyderabad\\nInternship in Mumbai\\nInternship in Chennai\\nInternship in Pune\\nInternship in Kolkata\\nInternship in Jaipur\\nInternational Internship\\nView all internships\\n\\n\\n\\n\\nComputer Science Internship\\nMarketing Internship\\nFinance Internship\\nGraphic Design Internship\\nArchitecture Internship\\nMechanical Internship\\nHR Internship\\nDigital Marketing Internship\\nLaw Internship\\nElectronics Internship\\nContent Writing Internship\\nCivil Internship\\nCampus Ambassador Program\\nView all internships\\n\\n\\n\\n\\nEngineering Internship\\nBusiness/MBA Internship\\nPart-Time Jobs/Internships\\nHumanities Internship\\nScience Internship\\nInternships with Job Offer\\nInternships for Women\\nView all internships\\n\\n\\n\\n\\nInternships by Category\\nInternships by Location\\n\\n\\n\\n\\nFull Stack Development Course\\nData Science Course\\nHuman Resource Management Course\\nDigital Marketing Course\\nElectric Vehicle Course\\nUI/UX Design Course\\nProduct Management Course\\nFinancial Modelling Course\\nSupply Chain Logistics Course\\nBanking Sales Course\\nSoftware Testing Course\\n\\n\\n\\n\\n\\n\\n\\n\\n        Courses                    \\n            OFFER            \\n\\n\\n\\n\\n\\n\\n\\n                        Certification Courses                            \\n\\n\\n                            Web Development                                                            \\n\\n                            Programming with Python                                                            \\n\\n                            Digital Marketing                                                            \\n\\n                            Machine Learning                                                            \\n\\n                            Advanced Excel                                                            \\n\\n                            AutoCAD                                                            \\n\\n                            Data Science                                                            \\n\\n                            Programming with C and C++                                                            \\n\\n\\n                                        View 70+ more courses\\n                                    \\n\\n\\n\\n\\n\\n                        Placement Guarantee Courses                            \\n\\n\\n                            Full Stack Development Course                                                            \\n\\n                            Data Science Course                                                            \\n\\n                            Human Resource Management Course                                                            \\n\\n                            Digital Marketing Course                                                            \\n\\n                            Electric Vehicle Course                                                            \\n\\n                            UI/UX Design Course                                                            \\n\\n                            Product Management Course                                                            \\n\\n                            Financial Modelling Course                                                            \\n\\n                            Supply Chain Logistics Course                                                            \\n\\n                            Banking Sales Course                                                            \\n\\n                            Software Testing Course                                                            \\n\\n\\n\\n\\n\\n\\n\\n\\n\\nJobs\\n        \\n\\n\\n\\n\\n\\n\\n\\n                                Top Locations                                                            \\n\\n\\n\\n\\n\\n                                Top Categories                                                            \\n\\n\\n\\n\\n\\n                                Explore More Jobs                                                            \\n\\n\\n\\n\\n\\n                                Placement Guarantee Courses                                                                        \\n                                            NEW                                        \\n\\n\\n\\n\\n\\n\\n\\nWork from home\\nJobs in Delhi\\nJobs in Mumbai\\nJobs in Bangalore\\nJobs in Hyderabad\\nJobs in Kolkata\\nJobs in Chennai\\nJobs in Pune\\nJobs in Jaipur\\nView all jobs\\n\\n\\n\\n\\nFresher jobs\\nMarketing jobs\\nContent writing jobs\\nComputer science jobs\\nFinance jobs\\nHR jobs\\nGraphic design jobs\\nData science jobs\\nView all jobs\\n\\n\\n\\n\\nJobs by Category\\nJobs by Location\\nJobs by Designation\\nJobs by Skill\\n\\n\\n\\n\\nFull Stack Development Course\\nData Science Course\\nHuman Resource Management Course\\nDigital Marketing Course\\nElectric Vehicle Course\\nUI/UX Design Course\\nProduct Management Course\\nFinancial Modelling Course\\nSupply Chain Logistics Course\\nBanking Sales Course\\nSoftware Testing Course\\n\\n\\n\\n\\n\\n\\n\\nLogin / Register \\n\\n\\n\\n\\n\\n\\nRegister as a student\\n\\n\\nRegister as an employer\\n\\n\\nLogin\\n\\n\\n\\n\\n\\n\\n\\n\\n\\n\\n \\n\\n\\n\\n\\n\\nOne time offer\\n\\n\\n\\n\\n\\n\\n\\n\\n\\nSign up now to unlock\\n\\n\\n\\nFREE AI Career Guide worth ₹599\\n\\n\\n\\nCustom job alerts delivered to your inbox\\n\\n\\n\\n                    Valid only for 05m : 00s\\n\\n\\n\\n                        By signing up, you agree to our Terms and Conditions.\\n                    \\n\\n\\n\\n\\n\\n\\n                                Sign up with Google\\n                            \\n\\n\\n\\nOR\\n\\n\\n\\nSign up with Email\\n\\n\\n\\n\\n\\n\\n\\n\\n\\n\\n\\n\\n\\n        Browse more internships                            \\n\\n\\n    DevOps Internship                    \\n\\n\\n\\n\\n\\n\\n                    DevOps                            \\n\\n\\n\\n                            Sigmoid                                \\n\\n\\n\\n\\n\\n\\n\\n\\n\\n\\nBangalore \\n\\n\\n\\n\\n\\n\\n\\n                        Start Date                                \\n\\n\\nStarts\\xa0immediatelyImmediately \\n\\n\\n\\n\\nDuration\\n\\n\\n                            6 Months                        \\n\\n\\n\\n\\n\\n\\n\\n                                Stipend                            \\n\\n\\n₹ 19,000 - 20,000 /month \\n\\n\\n\\n\\nAPPLY BY\\n\\n9 Jul' 25\\n\\n\\n\\n\\n\\n\\n\\n\\nPosted 1 week ago\\n\\n\\n\\n\\n\\n\\n\\nJob offer upto ₹ 5LPA post internship\\n\\n\\n\\n\\n\\n\\n\\n\\n\\n\\n\\n\\n961 applicants\\n\\n\\n\\n\\n \\n\\n\\n\\nShare on WhatsApp\\n                                \\n\\n\\n\\nShare on LinkedIn\\n                                \\n\\n\\n\\nShare on Facebook\\n                                \\n\\n\\n\\nShare on Twitter\\n                                \\n\\n\\n\\nCopy link\\n                                \\n\\n\\n\\n\\n\\n                    Apply now                        \\n\\n\\n\\n\\n\\n\\n                Apply now                        \\n\\n\\n\\n\\nAbout the internship\\n\\n    Selected intern's day-to-day responsibilities include: \\n\\n1. Create and maintain software solutions using DevOps tools.\\n2. Design, develop, and maintain automation systems.\\n3. Participate in continuous improvement and optimization of the automation model.\\n4. Monitor clusters and ensure everything is working smoothly.\\n5. Set alerts for monitoring the clusters.\\n6. Develop Slack/Microsoft Teams bots to auto-correct infrastructure.\\nSkill(s) required\\n\\nPython\\n\\n\\nEarn certifications in these skills\\n\\n\\nLearn Python\\n\\n\\nLearn Voice App Development\\n\\n\\nLearn Git & Github\\n\\n\\n\\nWho can apply\\n\\nOnly those candidates can apply who:\\n\\n                1. are available for full time (in-office) internship                    \\n\\n                2. can start the internship between 9th Jun'25 and 14th Jul'25                    \\n\\n                3. are available for duration of 6 months                    \\n\\n                4. have relevant skills and interests                    \\n\\n\\nOther requirements\\n\\n\\n                    1. Possess knowledge of software development.                \\n\\n                    2. Understand the basics of Python.                \\n\\n                    3. Use basic Linux commands.                \\n\\n                    4. Demonstrate knowledge of Git.                \\n\\n                    5. Interested in cloud computing, big data tools, and understanding how things work internally.                \\n\\nPerks\\n\\nInformal dress code\\n 5 days a week\\n Free snacks & beverages\\n Job offer\\n\\nAdditional information\\n\\nJob offer: On successful conversion to a permanent employee, the candidate can expect a salary of ₹ 450000 to 500000/year \\nNumber of openings\\n\\n        10    \\n\\n                    About Sigmoid                \\n\\nWebsite \\n\\n\\n        Sigmoid is a leading data solutions company offering best-in-class data engineering and data science services. Our team of 200+ members is strongly driven by the passion for unraveling data complexities. We generate actionable insights and translate them into successful business strategies. We leverage our expertise in open source and cloud technologies to develop innovative frameworks catering to specific client needs. \\n\\r\\nOur unique approach has positively influenced the business performance of our Fortune 1000 clients across the globe. We have a particularly strong presence in advertising technology, retail CPG, and BFSI, wherein we are working with the top players in each of these sectors.    \\n\\nActivity on Internshala\\n\\n\\n\\nHiring since June 2025\\n\\n\\n\\n1 opportunity posted\\n\\n\\n\\n\\n\\n\\n\\n                        Apply now\\n                    \\n\\n\\n\\n\\n\\n\\n\\nAdditional Questions\\n\\n×\\n\\n\\n\\n\\nClose\\n\\n\\n\\n\\n\\n\\n\\n\\n\\nSign up to continue\\n\\n\\n\\n\\n\\n\\n\\n\\n\\n                    Sign up/ Login with Google\\n                \\n\\n\\n\\n\\n\\n\\n                    Sign up with Email\\n                \\n\\n\\n\\n\\n\\n\\nOR\\n\\n\\n\\n\\n\\n\\n\\n\\n\\nEmail\\n\\n\\n\\nPassword\\n\\n\\n\\n\\n\\nFirst Name\\n\\n\\n\\n\\n\\nLast Name\\n\\n\\n\\n\\nSign up\\n\\n\\n\\n                By signing up, you agree to our Terms and Conditions.\\n        \\nAlready registered?\\n                            Login\\n\\n\\n\\n\\n\\n\\n\\n\\n\\n\\n\\n\\n\\nSign up to continue\\n\\n\\n\\n\\n\\n\\n\\n\\n\\n                    Sign up/ Login with Google\\n                \\n\\n\\n\\n\\n\\n\\n                    Sign up with Email\\n                \\n\\n\\n\\n\\n\\n\\nOR\\n\\n\\n\\n\\n\\n\\n\\n\\n\\nEmail\\n\\n\\n\\nPassword\\n\\n\\n\\n\\n\\nFirst Name\\n\\n\\n\\n\\n\\nLast Name\\n\\n\\n\\n\\nSign up\\n\\n\\n\\n                By signing up, you agree to our Terms and Conditions.\\n        \\nAlready registered?\\n                            Login\\n\\n\\n\\n\\n\\n\\n\\n\\n\\n\\n\\n\\n\\n\\n\\nLooking for more such opportunities?\\nRegister now to access 10K+ openings posted daily!\\n\\n\\n\\n\\n\\n\\n\\n                        Sign up with Google\\n                    \\n\\n\\n\\n\\n\\nSign up with Email\\n\\n\\n\\n\\n            By signing up, you agree to our Terms and Conditions.\\n        \\n\\n\\n\\n\\n\\n\\n\\n\\n \\n\\n\\n\\nSimilar internships you can apply to \\n\\n\\n\\n\\n\\n\\nActively hiring\\n\\n\\n\\n\\n                    Software Development                            \\n\\n\\n\\n                            IPExcel Services Private Limited                                \\n\\n\\n\\n\\n\\n\\n\\n\\n\\n\\nBangalore \\n\\n\\n\\n\\n\\n\\nDuration\\n\\n\\n                            3 Months                        \\n\\n\\n\\n\\n\\n\\n\\n                                Stipend                            \\n\\n\\n₹ 19,000 - 20,000 /month \\n\\n\\n\\n\\n\\n\\n\\n\\n\\n\\n\\n\\nView details\\n\\n\\n\\n\\n\\n\\n\\n\\n\\n\\nActively hiring\\n\\n\\n\\n\\n                    Software Development                            \\n\\n\\n\\n                            Freshers Job Fair .IN                                \\n\\n\\n\\n\\n\\n\\n\\n\\n\\n\\nBangalore \\n\\n\\n\\n\\n\\n\\nDuration\\n\\n\\n                            6 Months                        \\n\\n\\n\\n\\n\\n\\n\\n                                Stipend                            \\n\\n\\n₹ 15,000 - 25,000 /month \\n\\n\\n\\n\\n\\n\\n\\n\\n\\n\\n\\n\\nView details\\n\\n\\n\\n\\n\\n\\n \\n\\n\\n\\n\\n\\n\\n\\nInternships by places\\n\\nInternship in India\\n\\n\\nInternship in Delhi\\n\\n\\nInternship in Bangalore\\n\\n\\nInternship in Hyderabad\\n\\n\\nInternship in Mumbai\\n\\n\\nInternship in Chennai\\n\\n\\nInternship in Gurgaon\\n\\n\\nInternship in Kolkata\\n\\n\\nVirtual internship\\n\\n\\nView all internships\\n\\n\\n\\n\\n\\nInternship by Stream\\n\\nComputer Science Internship\\n\\n\\nElectronics Internship\\n\\n\\nMechanical Internship\\n\\n\\nCivil Internship\\n\\n\\nMarketing Internship\\n\\n\\nChemical Internship\\n\\n\\nFinance Internship\\n\\n\\nSummer Research Fellowship\\n\\n\\nCampus Ambassador Program\\n\\n\\nView all internships\\n\\n\\n\\n\\n\\nJobs by Places\\n\\nJobs in Delhi\\n\\n\\nJobs in Mumbai\\n\\n\\nJobs in Bangalore\\n\\n\\nJobs in Jaipur\\n\\n\\nJobs in Kolkata\\n\\n\\nJobs in Hyderabad\\n\\n\\nJobs in Pune\\n\\n\\nJobs in Chennai\\n\\n\\nJobs in Lucknow\\n\\n\\nView all jobs\\n\\n\\n\\n\\n\\nJobs by Stream\\n\\nMarketing jobs\\n\\n\\nContent writing jobs\\n\\n\\nWeb development jobs\\n\\n\\nSales jobs\\n\\n\\nFinance jobs\\n\\n\\nDigital Marketing jobs\\n\\n\\nComputer Science jobs\\n\\n\\nGraphic Design jobs\\n\\n\\nData Science jobs\\n\\n\\nView all jobs\\n\\n\\n\\n\\n\\n\\n\\nPlacement Guarantee Courses                                \\n\\n\\n\\nFull Stack Development\\n\\n\\nData Science\\n\\n\\nHuman Resource Management\\n\\n\\nDigital Marketing\\n\\n\\nElectric Vehicle\\n\\n\\nUI/UX Design\\n\\n\\nProduct Management\\n\\n\\nFinancial Modelling\\n\\n\\nSupply Chain Logistics\\n\\n\\nBanking Sales\\n\\n\\nSoftware Testing\\n\\n\\n\\nCertification Courses                                                                    OFFER\\n\\n\\n\\n\\n\\n\\n\\n\\n\\n                                Placement Guarantee Courses                            \\n\\n\\n\\n\\nFull Stack Development\\n\\n\\n\\n\\nData Science\\n\\n\\n\\n\\nHuman Resource Management\\n\\n\\n\\n\\nDigital Marketing\\n\\n\\n\\n\\nElectric Vehicle\\n\\n\\n\\n\\nUI/UX Design\\n\\n\\n\\n\\nProduct Management\\n\\n\\n\\n\\nFinancial Modelling\\n\\n\\n\\n\\nSupply Chain Logistics\\n\\n\\n\\n\\nBanking Sales\\n\\n\\n\\n\\nSoftware Testing\\n\\n\\n\\n\\n\\n                                Certification Courses                                                                    OFFER\\n\\n\\n\\n\\n\\n\\nJobs\\n\\nJobs by Category\\n\\n\\nJobs by Location\\n\\n\\nView all jobs\\n\\n\\n\\n\\n\\nAbout Internshala\\n\\n\\n\\nAbout us\\n\\n\\nWe're hiring\\n\\n\\nHire interns for your company\\n\\n\\nPost a Job\\n\\n\\nTeam Diary\\n\\n\\nBlog\\n\\n\\nOur Services\\n\\n\\nFree Job Alerts\\n\\n\\n\\n\\nTerms & Conditions\\n\\n\\nPrivacy\\n\\n\\nContact us\\n\\n\\nSitemap\\n\\n\\nCollege TPO registration\\n\\n\\nList of Companies\\n\\n\\nResume Maker\\n\\n\\nJobs for Women\\n\\n\\n\\n\\n\\n\\n\\n\\n\\n\\nJobs by Places\\n\\nJobs in Delhi\\n\\n\\nJobs in Mumbai\\n\\n\\nJobs in Bangalore\\n\\n\\nJobs in Jaipur\\n\\n\\nJobs in Kolkata\\n\\n\\nJobs in Hyderabad\\n\\n\\nJobs in Pune\\n\\n\\nJobs in Chennai\\n\\n\\nJobs in Lucknow\\n\\n\\nView all jobs\\n\\n\\n\\n\\n\\nJobs by Stream\\n\\nMarketing jobs\\n\\n\\nContent writing jobs\\n\\n\\nWeb development jobs\\n\\n\\nSales jobs\\n\\n\\nFinance jobs\\n\\n\\nDigital Marketing jobs\\n\\n\\nComputer Science jobs\\n\\n\\nGraphic Design jobs\\n\\n\\nData Science jobs\\n\\n\\nView all jobs\\n\\n\\n\\n\\n\\nAbout Internshala\\n\\n\\n\\nAbout us\\n\\n\\nWe're hiring\\n\\n\\nHire interns for your company\\n\\n\\nPost a Job\\n\\n\\nTeam Diary\\n\\n\\nBlog\\n\\n\\nOur Services\\n\\n\\nFree Job Alerts\\n\\n\\nResume Maker\\n\\n\\nJobs for Women\\n\\n\\n\\n\\nTerms & Conditions\\n\\n\\nPrivacy\\n\\n\\nContact us\\n\\n\\nSitemap\\n\\n\\n\\n\\n\\n\\n\\n\\n\\n\\n\\n\\n\\nAbout us\\n\\n\\nWe're hiring\\n\\n\\nHire interns for your company\\n\\n\\nPost a Job\\n\\n\\n\\n\\n\\n\\nTeam Diary\\n\\n\\nBlog\\n\\n\\nOur Services\\n\\n\\nFree Job Alerts\\n\\n\\n\\n\\n\\n\\nTerms & Conditions\\n\\n\\nPrivacy\\n\\n\\nContact us\\n\\n\\nResume Maker\\n\\n\\n\\n\\n\\n\\nSitemap\\n\\n\\nCollege TPO registration\\n\\n\\nList of Companies\\n\\n\\nJobs for Women\\n\\n\\n\\n\\n\\n\\n\\n\\n\\n\\n\\n\\n\\n\\n\\n\\n\\n\\n\\n\\n\\n\\n\\n\\n                    © Copyright 2025 Internshala (Scholiverse Educare Private Limited)\\n                \\n\\n\\n\\n\\n\\n\\n\\n\\n\\n\\n\\n\\nHome\\n\\n\\n\\n\\n\\n\\nInternships\\n\\n\\n\\n\\n\\nJobs\\n\\n\\n\\n\\n\\n\\nCourses\\n\\n\\n\\n\\n\\n\\n\\n\\n\\n\\n\\n\\n\\n\\n\\n\\n\""
      ]
     },
     "execution_count": 82,
     "metadata": {},
     "output_type": "execute_result"
    }
   ],
   "source": [
    "from langchain_community.document_loaders import WebBaseLoader\n",
    "\n",
    "loader = WebBaseLoader(\"https://internshala.com/internship/detail/devops-internship-in-bangalore-at-sigmoid1749452837/\")\n",
    "docs=loader.load().pop().page_content\n",
    "docs"
   ]
  },
  {
   "cell_type": "code",
   "execution_count": 83,
   "id": "b8630843",
   "metadata": {},
   "outputs": [],
   "source": [
    "from langchain_core.output_parsers import JsonOutputParser\n",
    "from langchain_core.prompts import PromptTemplate\n",
    "from pydantic import BaseModel, Field\n"
   ]
  },
  {
   "cell_type": "code",
   "execution_count": 84,
   "id": "b06523ca",
   "metadata": {},
   "outputs": [],
   "source": [
    "class JD(BaseModel):\n",
    "    role:str=Field(description=\"Role of the job\")\n",
    "    experience:int=Field(description=\"experience needed for the job in years\")\n",
    "    skills:list[str]=Field(description=\"skills required of the job\")\n",
    "parser =JsonOutputParser(pydantic_object=JD)\n"
   ]
  },
  {
   "cell_type": "code",
   "execution_count": 85,
   "id": "0e5d83f0",
   "metadata": {},
   "outputs": [],
   "source": [
    "prompt = \"\"\"\n",
    "You are an intelligent extraction agent.\n",
    "\n",
    " {format}\n",
    "\n",
    "\n",
    "\n",
    "Here is the job description:\n",
    "{job_description}\n",
    "\n",
    "Only return a valid JSON response. Do not include any explanation or extra text.\n",
    "\"\"\"\n"
   ]
  },
  {
   "cell_type": "code",
   "execution_count": 86,
   "id": "704acd9d",
   "metadata": {},
   "outputs": [],
   "source": [
    "prompt_temp=PromptTemplate.from_template(template=prompt,nput_variables=[\"job_description\"],partial_variables={\"format\":parser.get_format_instructions()})\n"
   ]
  },
  {
   "cell_type": "code",
   "execution_count": 87,
   "id": "16afbade",
   "metadata": {},
   "outputs": [],
   "source": [
    "chain=prompt_temp|llm|parser"
   ]
  },
  {
   "cell_type": "code",
   "execution_count": 88,
   "id": "100a9982",
   "metadata": {},
   "outputs": [],
   "source": [
    "json_res=chain.invoke(input={\"job_description\":docs},)\n",
    "\n"
   ]
  },
  {
   "cell_type": "code",
   "execution_count": 89,
   "id": "2dcb03cc",
   "metadata": {},
   "outputs": [],
   "source": [
    "import pandas as pd"
   ]
  },
  {
   "cell_type": "code",
   "execution_count": 90,
   "id": "cd01ba7d",
   "metadata": {},
   "outputs": [
    {
     "data": {
      "text/html": [
       "<div>\n",
       "<style scoped>\n",
       "    .dataframe tbody tr th:only-of-type {\n",
       "        vertical-align: middle;\n",
       "    }\n",
       "\n",
       "    .dataframe tbody tr th {\n",
       "        vertical-align: top;\n",
       "    }\n",
       "\n",
       "    .dataframe thead th {\n",
       "        text-align: right;\n",
       "    }\n",
       "</style>\n",
       "<table border=\"1\" class=\"dataframe\">\n",
       "  <thead>\n",
       "    <tr style=\"text-align: right;\">\n",
       "      <th></th>\n",
       "      <th>Techstack</th>\n",
       "      <th>Links</th>\n",
       "    </tr>\n",
       "  </thead>\n",
       "  <tbody>\n",
       "    <tr>\n",
       "      <th>0</th>\n",
       "      <td>React, Node.js, MongoDB</td>\n",
       "      <td>https://example.com/react-portfolio</td>\n",
       "    </tr>\n",
       "    <tr>\n",
       "      <th>1</th>\n",
       "      <td>Angular,.NET, SQL Server</td>\n",
       "      <td>https://example.com/angular-portfolio</td>\n",
       "    </tr>\n",
       "    <tr>\n",
       "      <th>2</th>\n",
       "      <td>Vue.js, Ruby on Rails, PostgreSQL</td>\n",
       "      <td>https://example.com/vue-portfolio</td>\n",
       "    </tr>\n",
       "    <tr>\n",
       "      <th>3</th>\n",
       "      <td>Python, Django, MySQL</td>\n",
       "      <td>https://example.com/python-portfolio</td>\n",
       "    </tr>\n",
       "    <tr>\n",
       "      <th>4</th>\n",
       "      <td>Java, Spring Boot, Oracle</td>\n",
       "      <td>https://example.com/java-portfolio</td>\n",
       "    </tr>\n",
       "    <tr>\n",
       "      <th>5</th>\n",
       "      <td>Flutter, Firebase, GraphQL</td>\n",
       "      <td>https://example.com/flutter-portfolio</td>\n",
       "    </tr>\n",
       "    <tr>\n",
       "      <th>6</th>\n",
       "      <td>WordPress, PHP, MySQL</td>\n",
       "      <td>https://example.com/wordpress-portfolio</td>\n",
       "    </tr>\n",
       "    <tr>\n",
       "      <th>7</th>\n",
       "      <td>Magento, PHP, MySQL</td>\n",
       "      <td>https://example.com/magento-portfolio</td>\n",
       "    </tr>\n",
       "    <tr>\n",
       "      <th>8</th>\n",
       "      <td>React Native, Node.js, MongoDB</td>\n",
       "      <td>https://example.com/react-native-portfolio</td>\n",
       "    </tr>\n",
       "    <tr>\n",
       "      <th>9</th>\n",
       "      <td>iOS, Swift, Core Data</td>\n",
       "      <td>https://example.com/ios-portfolio</td>\n",
       "    </tr>\n",
       "    <tr>\n",
       "      <th>10</th>\n",
       "      <td>Android, Java, Room Persistence</td>\n",
       "      <td>https://example.com/android-portfolio</td>\n",
       "    </tr>\n",
       "    <tr>\n",
       "      <th>11</th>\n",
       "      <td>Kotlin, Android, Firebase</td>\n",
       "      <td>https://example.com/kotlin-android-portfolio</td>\n",
       "    </tr>\n",
       "    <tr>\n",
       "      <th>12</th>\n",
       "      <td>Android TV, Kotlin, Android NDK</td>\n",
       "      <td>https://example.com/android-tv-portfolio</td>\n",
       "    </tr>\n",
       "    <tr>\n",
       "      <th>13</th>\n",
       "      <td>iOS, Swift, ARKit</td>\n",
       "      <td>https://example.com/ios-ar-portfolio</td>\n",
       "    </tr>\n",
       "    <tr>\n",
       "      <th>14</th>\n",
       "      <td>Cross-platform, Xamarin, Azure</td>\n",
       "      <td>https://example.com/xamarin-portfolio</td>\n",
       "    </tr>\n",
       "    <tr>\n",
       "      <th>15</th>\n",
       "      <td>Backend, Kotlin, Spring Boot</td>\n",
       "      <td>https://example.com/kotlin-backend-portfolio</td>\n",
       "    </tr>\n",
       "    <tr>\n",
       "      <th>16</th>\n",
       "      <td>Frontend, TypeScript, Angular</td>\n",
       "      <td>https://example.com/typescript-frontend-portfolio</td>\n",
       "    </tr>\n",
       "    <tr>\n",
       "      <th>17</th>\n",
       "      <td>Full-stack, JavaScript, Express.js</td>\n",
       "      <td>https://example.com/full-stack-js-portfolio</td>\n",
       "    </tr>\n",
       "    <tr>\n",
       "      <th>18</th>\n",
       "      <td>Machine Learning, Python, TensorFlow</td>\n",
       "      <td>https://example.com/ml-python-portfolio</td>\n",
       "    </tr>\n",
       "    <tr>\n",
       "      <th>19</th>\n",
       "      <td>DevOps, Jenkins, Docker</td>\n",
       "      <td>https://example.com/devops-portfolio</td>\n",
       "    </tr>\n",
       "  </tbody>\n",
       "</table>\n",
       "</div>"
      ],
      "text/plain": [
       "                               Techstack  \\\n",
       "0                React, Node.js, MongoDB   \n",
       "1               Angular,.NET, SQL Server   \n",
       "2      Vue.js, Ruby on Rails, PostgreSQL   \n",
       "3                  Python, Django, MySQL   \n",
       "4              Java, Spring Boot, Oracle   \n",
       "5             Flutter, Firebase, GraphQL   \n",
       "6                  WordPress, PHP, MySQL   \n",
       "7                    Magento, PHP, MySQL   \n",
       "8         React Native, Node.js, MongoDB   \n",
       "9                  iOS, Swift, Core Data   \n",
       "10       Android, Java, Room Persistence   \n",
       "11             Kotlin, Android, Firebase   \n",
       "12       Android TV, Kotlin, Android NDK   \n",
       "13                     iOS, Swift, ARKit   \n",
       "14        Cross-platform, Xamarin, Azure   \n",
       "15          Backend, Kotlin, Spring Boot   \n",
       "16         Frontend, TypeScript, Angular   \n",
       "17    Full-stack, JavaScript, Express.js   \n",
       "18  Machine Learning, Python, TensorFlow   \n",
       "19               DevOps, Jenkins, Docker   \n",
       "\n",
       "                                                Links  \n",
       "0                 https://example.com/react-portfolio  \n",
       "1               https://example.com/angular-portfolio  \n",
       "2                   https://example.com/vue-portfolio  \n",
       "3                https://example.com/python-portfolio  \n",
       "4                  https://example.com/java-portfolio  \n",
       "5               https://example.com/flutter-portfolio  \n",
       "6             https://example.com/wordpress-portfolio  \n",
       "7               https://example.com/magento-portfolio  \n",
       "8          https://example.com/react-native-portfolio  \n",
       "9                   https://example.com/ios-portfolio  \n",
       "10              https://example.com/android-portfolio  \n",
       "11       https://example.com/kotlin-android-portfolio  \n",
       "12           https://example.com/android-tv-portfolio  \n",
       "13               https://example.com/ios-ar-portfolio  \n",
       "14              https://example.com/xamarin-portfolio  \n",
       "15       https://example.com/kotlin-backend-portfolio  \n",
       "16  https://example.com/typescript-frontend-portfolio  \n",
       "17        https://example.com/full-stack-js-portfolio  \n",
       "18            https://example.com/ml-python-portfolio  \n",
       "19               https://example.com/devops-portfolio  "
      ]
     },
     "execution_count": 90,
     "metadata": {},
     "output_type": "execute_result"
    }
   ],
   "source": [
    "df=pd.read_csv(\"my_portfolio.csv\")\n",
    "df"
   ]
  },
  {
   "cell_type": "code",
   "execution_count": 91,
   "id": "b37680ce",
   "metadata": {},
   "outputs": [],
   "source": [
    "import chromadb\n",
    "from chromadb.config import Settings\n",
    "from chromadb import PersistentClient"
   ]
  },
  {
   "cell_type": "code",
   "execution_count": 92,
   "id": "7cb6e6e9",
   "metadata": {},
   "outputs": [],
   "source": [
    "client = PersistentClient(\"my_chroma_db\")\n",
    "collection = client.get_or_create_collection(\"my_collection\")"
   ]
  },
  {
   "cell_type": "code",
   "execution_count": 93,
   "id": "bcf5f04c",
   "metadata": {},
   "outputs": [],
   "source": [
    "import uuid\n",
    "\n",
    "\n",
    "if not collection.count():\n",
    "    for _,row in df.iterrows():\n",
    "        print(row)\n",
    "        collection.add(documents=row[\"Techstack\"],metadatas={\"links\":row[\"Links\"]},ids=[str(uuid.uuid4())])"
   ]
  },
  {
   "cell_type": "code",
   "execution_count": 96,
   "id": "ea3ef627",
   "metadata": {},
   "outputs": [
    {
     "data": {
      "text/plain": [
       "{'role': 'DevOps Intern',\n",
       " 'experience': 0,\n",
       " 'skills': ['Python',\n",
       "  'DevOps tools',\n",
       "  'Automation systems',\n",
       "  'Cloud computing',\n",
       "  'Big data tools']}"
      ]
     },
     "execution_count": 96,
     "metadata": {},
     "output_type": "execute_result"
    }
   ],
   "source": [
    "json_res"
   ]
  },
  {
   "cell_type": "code",
   "execution_count": 95,
   "id": "9c70e19b",
   "metadata": {},
   "outputs": [
    {
     "data": {
      "text/plain": [
       "[[{'links': 'https://example.com/ml-python-portfolio'},\n",
       "  {'links': 'https://example.com/python-portfolio'}],\n",
       " [{'links': 'https://example.com/devops-portfolio'},\n",
       "  {'links': 'https://example.com/ios-ar-portfolio'}],\n",
       " [{'links': 'https://example.com/ml-python-portfolio'},\n",
       "  {'links': 'https://example.com/magento-portfolio'}],\n",
       " [{'links': 'https://example.com/xamarin-portfolio'},\n",
       "  {'links': 'https://example.com/devops-portfolio'}],\n",
       " [{'links': 'https://example.com/ml-python-portfolio'},\n",
       "  {'links': 'https://example.com/flutter-portfolio'}]]"
      ]
     },
     "execution_count": 95,
     "metadata": {},
     "output_type": "execute_result"
    }
   ],
   "source": [
    "links=collection.query(query_texts=json_res[\"skills\"],n_results=2).get(\"metadatas\")\n",
    "links"
   ]
  },
  {
   "cell_type": "code",
   "execution_count": null,
   "id": "4403b9f2",
   "metadata": {},
   "outputs": [],
   "source": [
    "prompt_email = PromptTemplate.from_template(\n",
    "        template=    \"\"\"\n",
    "            ### JOB DESCRIPTION:\n",
    "            {job_description}\n",
    "\n",
    "            ### INSTRUCTION:\n",
    "            You are Mohan, a business development executive at AtliQ. AtliQ is an AI & Software Consulting company dedicated to facilitating\n",
    "            the seamless integration of business processes through automated tools. \n",
    "            Over our experience, we have empowered numerous enterprises with tailored solutions, fostering scalability, \n",
    "            process optimization, cost reduction, and heightened overall efficiency. \n",
    "            Your job is to write a cold email to the client regarding the job mentioned above describing the capability of AtliQ \n",
    "            in fulfilling their needs.\n",
    "            Also add the most relevant ones from the following links to showcase Atliq's portfolio: {link_list}\n",
    "            Remember you are Mohan, BDE at AtliQ. \n",
    "            Do not provide a preamble.\n",
    "            ### EMAIL (NO PREAMBLE):\n",
    "\n",
    "            \"\"\",\n",
    "\n",
    "        )\n"
   ]
  },
  {
   "cell_type": "code",
   "execution_count": 103,
   "id": "dbdc5716",
   "metadata": {},
   "outputs": [],
   "source": [
    "email_chain=prompt_email|llm"
   ]
  },
  {
   "cell_type": "code",
   "execution_count": null,
   "id": "60ee3f5b",
   "metadata": {},
   "outputs": [
    {
     "ename": "TypeError",
     "evalue": "Expected mapping type as input to PromptTemplate. Received <class 'langchain_core.prompts.prompt.PromptTemplate'>.\nFor troubleshooting, visit: https://python.langchain.com/docs/troubleshooting/errors/INVALID_PROMPT_INPUT ",
     "output_type": "error",
     "traceback": [
      "\u001b[0;31m---------------------------------------------------------------------------\u001b[0m",
      "\u001b[0;31mTypeError\u001b[0m                                 Traceback (most recent call last)",
      "Cell \u001b[0;32mIn[102], line 1\u001b[0m\n\u001b[0;32m----> 1\u001b[0m \u001b[43memail_chain\u001b[49m\u001b[38;5;241;43m.\u001b[39;49m\u001b[43minvoke\u001b[49m\u001b[43m(\u001b[49m\u001b[43mprompt_email\u001b[49m\u001b[43m)\u001b[49m\n",
      "File \u001b[0;32m/opt/anaconda3/envs/email/lib/python3.9/site-packages/langchain_core/runnables/base.py:3045\u001b[0m, in \u001b[0;36mRunnableSequence.invoke\u001b[0;34m(self, input, config, **kwargs)\u001b[0m\n\u001b[1;32m   3043\u001b[0m \u001b[38;5;28;01mwith\u001b[39;00m set_config_context(config) \u001b[38;5;28;01mas\u001b[39;00m context:\n\u001b[1;32m   3044\u001b[0m     \u001b[38;5;28;01mif\u001b[39;00m i \u001b[38;5;241m==\u001b[39m \u001b[38;5;241m0\u001b[39m:\n\u001b[0;32m-> 3045\u001b[0m         input_ \u001b[38;5;241m=\u001b[39m \u001b[43mcontext\u001b[49m\u001b[38;5;241;43m.\u001b[39;49m\u001b[43mrun\u001b[49m\u001b[43m(\u001b[49m\u001b[43mstep\u001b[49m\u001b[38;5;241;43m.\u001b[39;49m\u001b[43minvoke\u001b[49m\u001b[43m,\u001b[49m\u001b[43m \u001b[49m\u001b[43minput_\u001b[49m\u001b[43m,\u001b[49m\u001b[43m \u001b[49m\u001b[43mconfig\u001b[49m\u001b[43m,\u001b[49m\u001b[43m \u001b[49m\u001b[38;5;241;43m*\u001b[39;49m\u001b[38;5;241;43m*\u001b[39;49m\u001b[43mkwargs\u001b[49m\u001b[43m)\u001b[49m\n\u001b[1;32m   3046\u001b[0m     \u001b[38;5;28;01melse\u001b[39;00m:\n\u001b[1;32m   3047\u001b[0m         input_ \u001b[38;5;241m=\u001b[39m context\u001b[38;5;241m.\u001b[39mrun(step\u001b[38;5;241m.\u001b[39minvoke, input_, config)\n",
      "File \u001b[0;32m/opt/anaconda3/envs/email/lib/python3.9/site-packages/langchain_core/prompts/base.py:216\u001b[0m, in \u001b[0;36mBasePromptTemplate.invoke\u001b[0;34m(self, input, config, **kwargs)\u001b[0m\n\u001b[1;32m    214\u001b[0m \u001b[38;5;28;01mif\u001b[39;00m \u001b[38;5;28mself\u001b[39m\u001b[38;5;241m.\u001b[39mtags:\n\u001b[1;32m    215\u001b[0m     config[\u001b[38;5;124m\"\u001b[39m\u001b[38;5;124mtags\u001b[39m\u001b[38;5;124m\"\u001b[39m] \u001b[38;5;241m=\u001b[39m config[\u001b[38;5;124m\"\u001b[39m\u001b[38;5;124mtags\u001b[39m\u001b[38;5;124m\"\u001b[39m] \u001b[38;5;241m+\u001b[39m \u001b[38;5;28mself\u001b[39m\u001b[38;5;241m.\u001b[39mtags\n\u001b[0;32m--> 216\u001b[0m \u001b[38;5;28;01mreturn\u001b[39;00m \u001b[38;5;28;43mself\u001b[39;49m\u001b[38;5;241;43m.\u001b[39;49m\u001b[43m_call_with_config\u001b[49m\u001b[43m(\u001b[49m\n\u001b[1;32m    217\u001b[0m \u001b[43m    \u001b[49m\u001b[38;5;28;43mself\u001b[39;49m\u001b[38;5;241;43m.\u001b[39;49m\u001b[43m_format_prompt_with_error_handling\u001b[49m\u001b[43m,\u001b[49m\n\u001b[1;32m    218\u001b[0m \u001b[43m    \u001b[49m\u001b[38;5;28;43minput\u001b[39;49m\u001b[43m,\u001b[49m\n\u001b[1;32m    219\u001b[0m \u001b[43m    \u001b[49m\u001b[43mconfig\u001b[49m\u001b[43m,\u001b[49m\n\u001b[1;32m    220\u001b[0m \u001b[43m    \u001b[49m\u001b[43mrun_type\u001b[49m\u001b[38;5;241;43m=\u001b[39;49m\u001b[38;5;124;43m\"\u001b[39;49m\u001b[38;5;124;43mprompt\u001b[39;49m\u001b[38;5;124;43m\"\u001b[39;49m\u001b[43m,\u001b[49m\n\u001b[1;32m    221\u001b[0m \u001b[43m    \u001b[49m\u001b[43mserialized\u001b[49m\u001b[38;5;241;43m=\u001b[39;49m\u001b[38;5;28;43mself\u001b[39;49m\u001b[38;5;241;43m.\u001b[39;49m\u001b[43m_serialized\u001b[49m\u001b[43m,\u001b[49m\n\u001b[1;32m    222\u001b[0m \u001b[43m\u001b[49m\u001b[43m)\u001b[49m\n",
      "File \u001b[0;32m/opt/anaconda3/envs/email/lib/python3.9/site-packages/langchain_core/runnables/base.py:1940\u001b[0m, in \u001b[0;36mRunnable._call_with_config\u001b[0;34m(self, func, input_, config, run_type, serialized, **kwargs)\u001b[0m\n\u001b[1;32m   1936\u001b[0m     child_config \u001b[38;5;241m=\u001b[39m patch_config(config, callbacks\u001b[38;5;241m=\u001b[39mrun_manager\u001b[38;5;241m.\u001b[39mget_child())\n\u001b[1;32m   1937\u001b[0m     \u001b[38;5;28;01mwith\u001b[39;00m set_config_context(child_config) \u001b[38;5;28;01mas\u001b[39;00m context:\n\u001b[1;32m   1938\u001b[0m         output \u001b[38;5;241m=\u001b[39m cast(\n\u001b[1;32m   1939\u001b[0m             \u001b[38;5;124m\"\u001b[39m\u001b[38;5;124mOutput\u001b[39m\u001b[38;5;124m\"\u001b[39m,\n\u001b[0;32m-> 1940\u001b[0m             \u001b[43mcontext\u001b[49m\u001b[38;5;241;43m.\u001b[39;49m\u001b[43mrun\u001b[49m\u001b[43m(\u001b[49m\n\u001b[1;32m   1941\u001b[0m \u001b[43m                \u001b[49m\u001b[43mcall_func_with_variable_args\u001b[49m\u001b[43m,\u001b[49m\u001b[43m  \u001b[49m\u001b[38;5;66;43;03m# type: ignore[arg-type]\u001b[39;49;00m\n\u001b[1;32m   1942\u001b[0m \u001b[43m                \u001b[49m\u001b[43mfunc\u001b[49m\u001b[43m,\u001b[49m\n\u001b[1;32m   1943\u001b[0m \u001b[43m                \u001b[49m\u001b[43minput_\u001b[49m\u001b[43m,\u001b[49m\n\u001b[1;32m   1944\u001b[0m \u001b[43m                \u001b[49m\u001b[43mconfig\u001b[49m\u001b[43m,\u001b[49m\n\u001b[1;32m   1945\u001b[0m \u001b[43m                \u001b[49m\u001b[43mrun_manager\u001b[49m\u001b[43m,\u001b[49m\n\u001b[1;32m   1946\u001b[0m \u001b[43m                \u001b[49m\u001b[38;5;241;43m*\u001b[39;49m\u001b[38;5;241;43m*\u001b[39;49m\u001b[43mkwargs\u001b[49m\u001b[43m,\u001b[49m\n\u001b[1;32m   1947\u001b[0m \u001b[43m            \u001b[49m\u001b[43m)\u001b[49m,\n\u001b[1;32m   1948\u001b[0m         )\n\u001b[1;32m   1949\u001b[0m \u001b[38;5;28;01mexcept\u001b[39;00m \u001b[38;5;167;01mBaseException\u001b[39;00m \u001b[38;5;28;01mas\u001b[39;00m e:\n\u001b[1;32m   1950\u001b[0m     run_manager\u001b[38;5;241m.\u001b[39mon_chain_error(e)\n",
      "File \u001b[0;32m/opt/anaconda3/envs/email/lib/python3.9/site-packages/langchain_core/runnables/config.py:428\u001b[0m, in \u001b[0;36mcall_func_with_variable_args\u001b[0;34m(func, input, config, run_manager, **kwargs)\u001b[0m\n\u001b[1;32m    426\u001b[0m \u001b[38;5;28;01mif\u001b[39;00m run_manager \u001b[38;5;129;01mis\u001b[39;00m \u001b[38;5;129;01mnot\u001b[39;00m \u001b[38;5;28;01mNone\u001b[39;00m \u001b[38;5;129;01mand\u001b[39;00m accepts_run_manager(func):\n\u001b[1;32m    427\u001b[0m     kwargs[\u001b[38;5;124m\"\u001b[39m\u001b[38;5;124mrun_manager\u001b[39m\u001b[38;5;124m\"\u001b[39m] \u001b[38;5;241m=\u001b[39m run_manager\n\u001b[0;32m--> 428\u001b[0m \u001b[38;5;28;01mreturn\u001b[39;00m \u001b[43mfunc\u001b[49m\u001b[43m(\u001b[49m\u001b[38;5;28;43minput\u001b[39;49m\u001b[43m,\u001b[49m\u001b[43m \u001b[49m\u001b[38;5;241;43m*\u001b[39;49m\u001b[38;5;241;43m*\u001b[39;49m\u001b[43mkwargs\u001b[49m\u001b[43m)\u001b[49m\n",
      "File \u001b[0;32m/opt/anaconda3/envs/email/lib/python3.9/site-packages/langchain_core/prompts/base.py:189\u001b[0m, in \u001b[0;36mBasePromptTemplate._format_prompt_with_error_handling\u001b[0;34m(self, inner_input)\u001b[0m\n\u001b[1;32m    188\u001b[0m \u001b[38;5;28;01mdef\u001b[39;00m\u001b[38;5;250m \u001b[39m\u001b[38;5;21m_format_prompt_with_error_handling\u001b[39m(\u001b[38;5;28mself\u001b[39m, inner_input: \u001b[38;5;28mdict\u001b[39m) \u001b[38;5;241m-\u001b[39m\u001b[38;5;241m>\u001b[39m PromptValue:\n\u001b[0;32m--> 189\u001b[0m     _inner_input \u001b[38;5;241m=\u001b[39m \u001b[38;5;28;43mself\u001b[39;49m\u001b[38;5;241;43m.\u001b[39;49m\u001b[43m_validate_input\u001b[49m\u001b[43m(\u001b[49m\u001b[43minner_input\u001b[49m\u001b[43m)\u001b[49m\n\u001b[1;32m    190\u001b[0m     \u001b[38;5;28;01mreturn\u001b[39;00m \u001b[38;5;28mself\u001b[39m\u001b[38;5;241m.\u001b[39mformat_prompt(\u001b[38;5;241m*\u001b[39m\u001b[38;5;241m*\u001b[39m_inner_input)\n",
      "File \u001b[0;32m/opt/anaconda3/envs/email/lib/python3.9/site-packages/langchain_core/prompts/base.py:165\u001b[0m, in \u001b[0;36mBasePromptTemplate._validate_input\u001b[0;34m(self, inner_input)\u001b[0m\n\u001b[1;32m    160\u001b[0m     \u001b[38;5;28;01melse\u001b[39;00m:\n\u001b[1;32m    161\u001b[0m         msg \u001b[38;5;241m=\u001b[39m (\n\u001b[1;32m    162\u001b[0m             \u001b[38;5;124mf\u001b[39m\u001b[38;5;124m\"\u001b[39m\u001b[38;5;124mExpected mapping type as input to \u001b[39m\u001b[38;5;132;01m{\u001b[39;00m\u001b[38;5;28mself\u001b[39m\u001b[38;5;241m.\u001b[39m\u001b[38;5;18m__class__\u001b[39m\u001b[38;5;241m.\u001b[39m\u001b[38;5;18m__name__\u001b[39m\u001b[38;5;132;01m}\u001b[39;00m\u001b[38;5;124m. \u001b[39m\u001b[38;5;124m\"\u001b[39m\n\u001b[1;32m    163\u001b[0m             \u001b[38;5;124mf\u001b[39m\u001b[38;5;124m\"\u001b[39m\u001b[38;5;124mReceived \u001b[39m\u001b[38;5;132;01m{\u001b[39;00m\u001b[38;5;28mtype\u001b[39m(inner_input)\u001b[38;5;132;01m}\u001b[39;00m\u001b[38;5;124m.\u001b[39m\u001b[38;5;124m\"\u001b[39m\n\u001b[1;32m    164\u001b[0m         )\n\u001b[0;32m--> 165\u001b[0m         \u001b[38;5;28;01mraise\u001b[39;00m \u001b[38;5;167;01mTypeError\u001b[39;00m(\n\u001b[1;32m    166\u001b[0m             create_message(\n\u001b[1;32m    167\u001b[0m                 message\u001b[38;5;241m=\u001b[39mmsg, error_code\u001b[38;5;241m=\u001b[39mErrorCode\u001b[38;5;241m.\u001b[39mINVALID_PROMPT_INPUT\n\u001b[1;32m    168\u001b[0m             )\n\u001b[1;32m    169\u001b[0m         )\n\u001b[1;32m    170\u001b[0m missing \u001b[38;5;241m=\u001b[39m \u001b[38;5;28mset\u001b[39m(\u001b[38;5;28mself\u001b[39m\u001b[38;5;241m.\u001b[39minput_variables)\u001b[38;5;241m.\u001b[39mdifference(inner_input)\n\u001b[1;32m    171\u001b[0m \u001b[38;5;28;01mif\u001b[39;00m missing:\n",
      "\u001b[0;31mTypeError\u001b[0m: Expected mapping type as input to PromptTemplate. Received <class 'langchain_core.prompts.prompt.PromptTemplate'>.\nFor troubleshooting, visit: https://python.langchain.com/docs/troubleshooting/errors/INVALID_PROMPT_INPUT "
     ]
    }
   ],
   "source": [
    "email_chain.invoke({\n",
    "    \"job_description\": docs,\n",
    "    \"link_list\": links\n",
    "})"
   ]
  }
 ],
 "metadata": {
  "kernelspec": {
   "display_name": "email",
   "language": "python",
   "name": "python3"
  },
  "language_info": {
   "codemirror_mode": {
    "name": "ipython",
    "version": 3
   },
   "file_extension": ".py",
   "mimetype": "text/x-python",
   "name": "python",
   "nbconvert_exporter": "python",
   "pygments_lexer": "ipython3",
   "version": "3.9.23"
  }
 },
 "nbformat": 4,
 "nbformat_minor": 5
}
