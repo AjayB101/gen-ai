{
 "cells": [
  {
   "cell_type": "code",
   "execution_count": null,
   "id": "e5d43721",
   "metadata": {},
   "outputs": [],
   "source": [
    "from langgraph.playground.agent import Agent\n"
   ]
  },
  {
   "cell_type": "code",
   "execution_count": 16,
   "id": "daa90f50",
   "metadata": {},
   "outputs": [],
   "source": [
    "agent=Agent()\n",
    "llm=agent.get_agent()"
   ]
  },
  {
   "cell_type": "code",
   "execution_count": 17,
   "id": "072e9ce2",
   "metadata": {},
   "outputs": [],
   "source": [
    "from langgraph.graph import StateGraph, MessagesState, START, END\n",
    "from langgraph.prebuilt import ToolNode\n",
    "from langchain_community.tools import TavilySearchResults\n",
    "from IPython.display import Image"
   ]
  },
  {
   "cell_type": "code",
   "execution_count": 18,
   "id": "e151ba6b",
   "metadata": {},
   "outputs": [],
   "source": [
    "def shall_proceed(state:MessagesState):\n",
    "    messages=state['messages']\n",
    "    last_message=messages[-1]\n",
    "    if last_message.tool_calls:\n",
    "        return \"tools\"\n",
    "    else:\n",
    "        return END"
   ]
  },
  {
   "cell_type": "code",
   "execution_count": 19,
   "id": "ad7928b7",
   "metadata": {},
   "outputs": [],
   "source": [
    "def search(state:MessagesState):\n",
    "    messages=state['messages']\n",
    "    res=llm.invoke(messages)\n",
    "    return {\"messages\":messages +[res]}\n",
    "    "
   ]
  },
  {
   "cell_type": "code",
   "execution_count": 20,
   "id": "548d1a7e",
   "metadata": {},
   "outputs": [
    {
     "data": {
      "text/plain": [
       "<langgraph.graph.state.StateGraph at 0x110d5f310>"
      ]
     },
     "execution_count": 20,
     "metadata": {},
     "output_type": "execute_result"
    }
   ],
   "source": [
    "graph = StateGraph(MessagesState)\n",
    "graph.add_node(\"agent\",search)\n"
   ]
  },
  {
   "cell_type": "code",
   "execution_count": 21,
   "id": "1e53dc99",
   "metadata": {},
   "outputs": [],
   "source": [
    "from dotenv import load_dotenv"
   ]
  },
  {
   "cell_type": "code",
   "execution_count": 22,
   "id": "3f587b75",
   "metadata": {},
   "outputs": [
    {
     "data": {
      "text/plain": [
       "True"
      ]
     },
     "execution_count": 22,
     "metadata": {},
     "output_type": "execute_result"
    }
   ],
   "source": [
    "load_dotenv()"
   ]
  },
  {
   "cell_type": "code",
   "execution_count": 23,
   "id": "ee82e76e",
   "metadata": {},
   "outputs": [],
   "source": [
    "search_tool=TavilySearchResults(max_results=5)\n",
    "tools=[search_tool]\n",
    "tool_node=ToolNode(tools)"
   ]
  },
  {
   "cell_type": "code",
   "execution_count": 24,
   "id": "24d4de18",
   "metadata": {},
   "outputs": [
    {
     "data": {
      "text/plain": [
       "<langgraph.graph.state.StateGraph at 0x110d5f310>"
      ]
     },
     "execution_count": 24,
     "metadata": {},
     "output_type": "execute_result"
    }
   ],
   "source": [
    "graph.add_node(\"tools\",tool_node)\n"
   ]
  },
  {
   "cell_type": "code",
   "execution_count": 25,
   "id": "2ccedcbc",
   "metadata": {},
   "outputs": [
    {
     "data": {
      "text/plain": [
       "<langgraph.graph.state.StateGraph at 0x110d5f310>"
      ]
     },
     "execution_count": 25,
     "metadata": {},
     "output_type": "execute_result"
    }
   ],
   "source": [
    "graph.add_edge(START,\"agent\")\n",
    "graph.add_conditional_edges(\"agent\",shall_proceed)\n"
   ]
  },
  {
   "cell_type": "code",
   "execution_count": 27,
   "id": "8b1e2515",
   "metadata": {},
   "outputs": [],
   "source": [
    "comp_graph=graph.compile()"
   ]
  },
  {
   "cell_type": "code",
   "execution_count": 28,
   "id": "84b1cd9e",
   "metadata": {},
   "outputs": [
    {
     "data": {
      "text/plain": [
       "{'messages': [HumanMessage(content='How to improve productivity using aio', additional_kwargs={}, response_metadata={}, id='43ea2834-76b1-42dc-a96b-4571ec0f5a61'),\n",
       "  AIMessage(content='**Improving Productivity with Asyncio (aio)**\\n\\nAsyncio is a built-in Python library that allows you to write single-threaded concurrent code using coroutines, multiplexing I/O access over sockets and other resources, and implementing network clients and servers.\\n\\nHere are some ways to improve productivity using asyncio:\\n\\n### 1. **Concurrent Tasks**\\n\\nAsyncio allows you to run multiple tasks concurrently, which can significantly improve productivity by reducing the time it takes to complete tasks.\\n\\n```python\\nimport asyncio\\n\\nasync def task1():\\n    print(\"Task 1 started\")\\n    await asyncio.sleep(2)\\n    print(\"Task 1 finished\")\\n\\nasync def task2():\\n    print(\"Task 2 started\")\\n    await asyncio.sleep(3)\\n    print(\"Task 2 finished\")\\n\\nasync def main():\\n    await asyncio.gather(task1(), task2())\\n\\nasyncio.run(main())\\n```\\n\\n### 2. **Async/Await Syntax**\\n\\nAsyncio\\'s async/await syntax makes it easy to write concurrent code that\\'s also easy to read and understand.\\n\\n```python\\nimport asyncio\\n\\nasync def fetch_data():\\n    # Simulate a long-running operation\\n    await asyncio.sleep(2)\\n    return \"Data fetched\"\\n\\nasync def process_data(data):\\n    # Simulate some processing\\n    await asyncio.sleep(1)\\n    return f\"Processed {data}\"\\n\\nasync def main():\\n    data = await fetch_data()\\n    processed_data = await process_data(data)\\n    print(processed_data)\\n\\nasyncio.run(main())\\n```\\n\\n### 3. **Event Loops**\\n\\nAsyncio\\'s event loop is a powerful tool for managing concurrent tasks. You can use it to schedule tasks, handle exceptions, and more.\\n\\n```python\\nimport asyncio\\n\\nasync def task():\\n    try:\\n        # Simulate a long-running operation\\n        await asyncio.sleep(2)\\n    except Exception as e:\\n        print(f\"Error: {e}\")\\n\\nasync def main():\\n    loop = asyncio.get_event_loop()\\n    loop.create_task(task())\\n    await asyncio.sleep(1)\\n    loop.close()\\n\\nasyncio.run(main())\\n```\\n\\n### 4. **Timeouts**\\n\\nAsyncio allows you to set timeouts for tasks, which can help prevent deadlocks and improve productivity.\\n\\n```python\\nimport asyncio\\n\\nasync def task():\\n    # Simulate a long-running operation\\n    await asyncio.sleep(10)\\n\\nasync def main():\\n    try:\\n        await asyncio.wait_for(task(), timeout=5)\\n    except asyncio.TimeoutError:\\n        print(\"Task timed out\")\\n\\nasyncio.run(main())\\n```\\n\\n### 5. **Web Scraping**\\n\\nAsyncio is particularly useful for web scraping, as it allows you to make multiple requests concurrently and handle responses in parallel.\\n\\n```python\\nimport asyncio\\nimport aiohttp\\n\\nasync def fetch_page(session, url):\\n    async with session.get(url) as response:\\n        return await response.text()\\n\\nasync def main():\\n    async with aiohttp.ClientSession() as session:\\n        tasks = [fetch_page(session, \"https://example.com/page1\"), fetch_page(session, \"https://example.com/page2\")]\\n        pages = await asyncio.gather(*tasks)\\n        print(pages)\\n\\nasyncio.run(main())\\n```\\n\\n### 6. **Database Queries**\\n\\nAsyncio can also be used to improve productivity when working with databases. By making multiple queries concurrently, you can reduce the time it takes to complete tasks.\\n\\n```python\\nimport asyncio\\nimport aiomysql\\n\\nasync def query_database(pool, query):\\n    async with pool.acquire() as conn:\\n        async with conn.cursor() as cur:\\n            await cur.execute(query)\\n            return await cur.fetchall()\\n\\nasync def main():\\n    pool = await aiomysql.create_pool(host=\"localhost\", user=\"username\", password=\"password\", db=\"database\")\\n    tasks = [query_database(pool, \"SELECT * FROM table1\"), query_database(pool, \"SELECT * FROM table2\")]\\n    results = await asyncio.gather(*tasks)\\n    print(results)\\n\\nasyncio.run(main())\\n```\\n\\nBy using asyncio to improve productivity, you can write more efficient and scalable code that\\'s better equipped to handle concurrent tasks and reduce the time it takes to complete tasks.', additional_kwargs={}, response_metadata={'token_usage': {'completion_tokens': 847, 'prompt_tokens': 41, 'total_tokens': 888, 'completion_time': 1.129333333, 'prompt_time': 0.002014341, 'queue_time': 0.046367471, 'total_time': 1.131347674}, 'model_name': 'llama-3.1-8b-instant', 'system_fingerprint': 'fp_45b1c690be', 'finish_reason': 'stop', 'logprobs': None}, id='run--731bedda-32d7-4fa2-9efc-62855a35fe29-0', usage_metadata={'input_tokens': 41, 'output_tokens': 847, 'total_tokens': 888})]}"
      ]
     },
     "execution_count": 28,
     "metadata": {},
     "output_type": "execute_result"
    }
   ],
   "source": [
    "comp_graph.invoke({\n",
    "    \"messages\":\"How to improve productivity using aio\"\n",
    "})"
   ]
  }
 ],
 "metadata": {
  "kernelspec": {
   "display_name": "graph",
   "language": "python",
   "name": "python3"
  },
  "language_info": {
   "codemirror_mode": {
    "name": "ipython",
    "version": 3
   },
   "file_extension": ".py",
   "mimetype": "text/x-python",
   "name": "python",
   "nbconvert_exporter": "python",
   "pygments_lexer": "ipython3",
   "version": "3.9.23"
  }
 },
 "nbformat": 4,
 "nbformat_minor": 5
}
