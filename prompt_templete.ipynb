{
 "cells": [
  {
   "cell_type": "code",
   "execution_count": 2,
   "id": "2b32cece",
   "metadata": {},
   "outputs": [],
   "source": [
    "from dotenv import load_dotenv\n",
    "import os"
   ]
  },
  {
   "cell_type": "code",
   "execution_count": 3,
   "id": "168d3e5d",
   "metadata": {},
   "outputs": [],
   "source": [
    "load_dotenv()\n",
    "gemini_api_key = os.getenv(\"GOOGLE_API_KEY\")\n",
    "hf_api_key = os.getenv(\"HUGG_API_KEY\")\n",
    "os.environ[\"GOOGLE_API_KEY\"]=gemini_api_key"
   ]
  },
  {
   "cell_type": "code",
   "execution_count": null,
   "id": "780bfa78",
   "metadata": {},
   "outputs": [
    {
     "name": "stderr",
     "output_type": "stream",
     "text": [
      "/Users/user/Documents/GitHub/gen-ai/.venv/lib/python3.9/site-packages/urllib3/__init__.py:35: NotOpenSSLWarning: urllib3 v2 only supports OpenSSL 1.1.1+, currently the 'ssl' module is compiled with 'LibreSSL 2.8.3'. See: https://github.com/urllib3/urllib3/issues/3020\n",
      "  warnings.warn(\n"
     ]
    }
   ],
   "source": [
    "from langchain_huggingface import HuggingFaceEndpoint,ChatHuggingFace\n",
    "from langchain_core.messages import SystemMessage, HumanMessage,AIMessage\n",
    "from langchain_core.prompts import PromptTemplate\n",
    "from hf_utils import get_hf_endpoint"
   ]
  },
  {
   "cell_type": "code",
   "execution_count": null,
   "id": "fad92fa6",
   "metadata": {},
   "outputs": [
    {
     "name": "stderr",
     "output_type": "stream",
     "text": [
      "/Users/user/Documents/GitHub/gen-ai/.venv/lib/python3.9/site-packages/tqdm/auto.py:21: TqdmWarning: IProgress not found. Please update jupyter and ipywidgets. See https://ipywidgets.readthedocs.io/en/stable/user_install.html\n",
      "  from .autonotebook import tqdm as notebook_tqdm\n"
     ]
    }
   ],
   "source": [
    "llm = get_hf_endpoint()"
   ]
  },
  {
   "cell_type": "code",
   "execution_count": 6,
   "id": "179365be",
   "metadata": {},
   "outputs": [],
   "source": [
    "chat =ChatHuggingFace(llm=llm,verbose=True)"
   ]
  },
  {
   "cell_type": "code",
   "execution_count": 7,
   "id": "e25759c5",
   "metadata": {},
   "outputs": [],
   "source": [
    "prompt=\"explain aboout {topic} in {language}\"\n",
    "prompt_temp=PromptTemplate.from_template(template=prompt)\n",
    "inputs=[(\"GenAi\",\"English\"),(\"Fintech\",\"French\"),(\"Buisness Analytics\",\"Tamil\")]\n",
    "prompts=[prompt_temp.format(topic=topic,language=lang) for topic,lang in inputs]\n",
    "\n"
   ]
  },
  {
   "cell_type": "code",
   "execution_count": 8,
   "id": "b3f1d9dd",
   "metadata": {},
   "outputs": [
    {
     "data": {
      "text/plain": [
       "[AIMessage(content='GenAI, or Generative AI, refers to a class of artificial intelligence algorithms that have the capability to generate new data samples that resemble the training data. This technology has found applications in various fields such as music composition, image creation, writing, and more. The algorithms, which often employ deep learning techniques, can learn the dependencies and features of large datasets, allowing them to produce novel and coherent outputs.', additional_kwargs={}, response_metadata={'token_usage': {'completion_tokens': 87, 'prompt_tokens': 12, 'total_tokens': 99}, 'model_name': 'microsoft/Phi-3-mini-4k-instruct', 'system_fingerprint': '3.2.1-sha-4d28897', 'finish_reason': 'stop', 'logprobs': None}, id='run--755af60e-6f91-4266-80fb-5ab07719b090-0', usage_metadata={'input_tokens': 12, 'output_tokens': 87, 'total_tokens': 99}),\n",
       " AIMessage(content=\"La fintech, ou fintech pour les anglophones, désigne l'utilisation de la technologie numérique pour la transformation de divers secteurs financiers. Elle permet aux consommateurs de bénéficier de services innovants et améliore l'accessibilité des services financiers à travers l'internet. Les technologies clés incluent les platines mobiles, le blockchain et la cryptomonnaie. Ses domaines d'intervention comprennent la banque numérique pour les particuliers et les petits entrepreneurs, le financement participatif, les plateformes de crédit collégial, les services de paiement électronique, la gestion de portefeuille et les services de paiement en ligne.\", additional_kwargs={}, response_metadata={'token_usage': {'completion_tokens': 166, 'prompt_tokens': 11, 'total_tokens': 177}, 'model_name': 'microsoft/Phi-3-mini-4k-instruct', 'system_fingerprint': '3.2.1-sha-4d28897', 'finish_reason': 'stop', 'logprobs': None}, id='run--67d31dba-43f3-4b6e-a26c-01874445f77a-0', usage_metadata={'input_tokens': 11, 'output_tokens': 166, 'total_tokens': 177}),\n",
       " AIMessage(content='அக்குமீட்டரில் ஒரு சிறுமுறைத் தொடர்பு (Business Intelligence) தமிழில் உண்மைக் குறிப்பிறுத்தி ஒரு பள்ளியையும் நினைவையில் மொழியின் உதவிபாக அளிக்கும் ஒரு கற்றுக் கொள்ளி. உதாரணமாக அகர முதல் மற்றும் கனவு, கணுடனும் வாகனும், நம்பர் மற்று நீஒன்றுக்கு அணைத்தினும் இடைகளை மிகவரவுக்கு அறிவுள்ளன. இந்த சொறியின் வரும் மponents போக்கு டைக்கும் உவக்கும் ஒரு கட்டுப்பாடு அவரின் முக்கியத்தை உருவாக்கும். வழிகாட்டாள் வரலாறுக்கு செய்தி அதன் கவிதையில் வாழும் படையின் சுக்கியத்தை பறைவதை உம் தொடர்பு அடையாளும், வலைவிரியில் பொருளாதார அரசியல், பயனல் குறிக்கைகள், வருவில்லை, அவர்கள் வரை அப்பட்ட உணவு நிகழ்வு வெப்ப டைக்கும்.', additional_kwargs={}, response_metadata={'token_usage': {'completion_tokens': 668, 'prompt_tokens': 15, 'total_tokens': 683}, 'model_name': 'microsoft/Phi-3-mini-4k-instruct', 'system_fingerprint': '3.2.1-sha-4d28897', 'finish_reason': 'stop', 'logprobs': None}, id='run--81256221-f21d-49c9-a50b-ffdb630c3e82-0', usage_metadata={'input_tokens': 15, 'output_tokens': 668, 'total_tokens': 683})]"
      ]
     },
     "execution_count": 8,
     "metadata": {},
     "output_type": "execute_result"
    }
   ],
   "source": [
    "responses=chat.map().invoke(prompts)\n",
    "responses"
   ]
  },
  {
   "cell_type": "code",
   "execution_count": 11,
   "id": "dcf4a3ec",
   "metadata": {},
   "outputs": [
    {
     "name": "stdout",
     "output_type": "stream",
     "text": [
      "GenAI, or Generative AI, refers to a class of artificial intelligence algorithms that have the capability to generate new data samples that resemble the training data. This technology has found applications in various fields such as music composition, image creation, writing, and more. The algorithms, which often employ deep learning techniques, can learn the dependencies and features of large datasets, allowing them to produce novel and coherent outputs.\n",
      "La fintech, ou fintech pour les anglophones, désigne l'utilisation de la technologie numérique pour la transformation de divers secteurs financiers. Elle permet aux consommateurs de bénéficier de services innovants et améliore l'accessibilité des services financiers à travers l'internet. Les technologies clés incluent les platines mobiles, le blockchain et la cryptomonnaie. Ses domaines d'intervention comprennent la banque numérique pour les particuliers et les petits entrepreneurs, le financement participatif, les plateformes de crédit collégial, les services de paiement électronique, la gestion de portefeuille et les services de paiement en ligne.\n",
      "அக்குமீட்டரில் ஒரு சிறுமுறைத் தொடர்பு (Business Intelligence) தமிழில் உண்மைக் குறிப்பிறுத்தி ஒரு பள்ளியையும் நினைவையில் மொழியின் உதவிபாக அளிக்கும் ஒரு கற்றுக் கொள்ளி. உதாரணமாக அகர முதல் மற்றும் கனவு, கணுடனும் வாகனும், நம்பர் மற்று நீஒன்றுக்கு அணைத்தினும் இடைகளை மிகவரவுக்கு அறிவுள்ளன. இந்த சொறியின் வரும் மponents போக்கு டைக்கும் உவக்கும் ஒரு கட்டுப்பாடு அவரின் முக்கியத்தை உருவாக்கும். வழிகாட்டாள் வரலாறுக்கு செய்தி அதன் கவிதையில் வாழும் படையின் சுக்கியத்தை பறைவதை உம் தொடர்பு அடையாளும், வலைவிரியில் பொருளாதார அரசியல், பயனல் குறிக்கைகள், வருவில்லை, அவர்கள் வரை அப்பட்ட உணவு நிகழ்வு வெப்ப டைக்கும்.\n"
     ]
    }
   ],
   "source": [
    "for cont in responses:\n",
    "    print(cont.content)"
   ]
  }
 ],
 "metadata": {
  "kernelspec": {
   "display_name": ".venv",
   "language": "python",
   "name": "python3"
  },
  "language_info": {
   "codemirror_mode": {
    "name": "ipython",
    "version": 3
   },
   "file_extension": ".py",
   "mimetype": "text/x-python",
   "name": "python",
   "nbconvert_exporter": "python",
   "pygments_lexer": "ipython3",
   "version": "3.9.6"
  }
 },
 "nbformat": 4,
 "nbformat_minor": 5
}
