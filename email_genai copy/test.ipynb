{
 "cells": [
  {
   "cell_type": "code",
   "execution_count": 1,
   "id": "c62f68cf",
   "metadata": {},
   "outputs": [],
   "source": [
    "from langchain_groq import ChatGroq\n",
    "\n",
    "llm = ChatGroq(\n",
    "    model=\"llama-3.1-8b-instant\",\n",
    "    temperature=0,\n",
    "    max_tokens=None,\n",
    "    timeout=None,\n",
    "    api_key=\"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\",\n",
    "    max_retries=2,\n",
    "    # other params...\n",
    ")"
   ]
  },
  {
   "cell_type": "code",
   "execution_count": 22,
   "id": "15478ac1",
   "metadata": {},
   "outputs": [
    {
     "data": {
      "text/plain": [
       "\"\\n\\n\\n\\n\\n\\n\\n\\n\\n\\n\\n\\n\\n\\n\\n\\n\\n \\n\\n\\n\\n\\nDevOps Internship in Bangalore at Sigmoid\\n\\n\\n\\n\\n\\n\\n\\n\\n\\n\\n\\n\\n\\n\\n\\n\\n\\n\\n\\n\\n\\n\\n\\n\\n\\n\\n \\n\\n\\n\\n\\n\\n\\n\\n\\n\\n\\n\\n\\n\\n\\n\\n\\n\\n\\n\\n\\n\\nClose\\n\\n\\n\\n\\n\\n\\n\\n\\n\\n\\n\\n\\n\\n\\n\\n\\n\\n\\nCancel\\nClose\\n\\n\\n\\n\\n\\n\\n\\n\\n\\n\\n\\n\\n\\n\\n\\n\\n\\n\\nClose\\nClose\\n\\n\\n\\n\\n\\n\\n\\n\\n\\n\\n\\n\\n\\n\\n\\n\\n\\n\\nClose\\n\\n\\n\\n\\n\\n\\n\\n\\n\\n\\n\\n\\n\\n\\n\\nCancel\\nYes\\n\\n\\n\\n\\n\\n\\n\\n\\n\\n\\n\\n\\n        Oops, your browser does not support Javascript. Please use Internshala in another browser.\\n    \\n\\n\\n\\n\\n            Loading, please wait...\\n        \\n\\n\\n\\n\\n\\n\\n\\n\\n\\n\\n\\n\\n\\n\\n\\n\\n\\n\\n\\n\\n\\n\\n\\n\\n\\n\\n\\n\\n\\n\\n\\n\\n\\n\\n\\n\\n\\n\\n\\n\\n\\n\\n\\n                                        Student\\n                                    \\n\\n                                        Employer / T&P\\n                                    \\n\\n\\n\\n\\n\\n\\n\\n\\n\\n                                    Login with Google\\n                                \\n\\n\\n\\n\\nOR\\n\\n\\n\\n\\n\\n\\nEmail\\n\\n\\n\\nPassword\\n\\n\\n\\nForgot password?\\n\\n\\nLogin\\n\\n\\n\\n                                    New to Internshala? Register (Student / Company)\\n                                \\n\\n\\n\\n\\n\\n\\n\\n\\n\\n\\n\\n                Your account is put on hold.\\n\\n\\n                Your account is put on hold.\\n\\n\\n\\n\\n                    What happened?\\n                \\n\\n                    We have determined that this account is violation of Internshala's rules.\\n                \\n\\n                    Specifically for,\\n                \\n\\n\\n\\n\\n\\n                    If you wish to appeal this, or seek further clarification, please contact our team at complaints@internshala.com\\n\\n\\n\\n\\n\\n                        If this has happened by mistake, it will automatically be reverted within 24 hours.\\n                    \\n\\n\\n\\n\\n\\n\\n\\n\\n\\n\\n\\nInternships\\n\\n\\nJobs\\n\\n\\n\\n\\n        Certification Courses                                    \\n            OFFER                            \\n\\n\\n\\n\\n\\n\\nPlacement Guarantee Courses\\n\\n\\n\\n\\nContact Us\\n\\n\\n\\nRegister - As a Student\\n\\n\\nRegister - As an Employer\\n\\n\\nLogin\\n                        \\n\\n\\n\\n\\n\\n\\n\\n\\n\\n\\n\\n\\n \\n\\n\\n\\n\\n\\n                                Register\\n                            \\n\\n\\n\\n\\n\\n\\n\\n\\nInternships\\n        \\n\\n\\n\\n\\n\\n\\n\\n                                Top Locations                                                            \\n\\n\\n\\n\\n\\n                                Profile                                                            \\n\\n\\n\\n\\n\\n                                Top Categories                                                            \\n\\n\\n\\n\\n\\n                                Explore More Internships                                                            \\n\\n\\n\\n\\n\\n                                Placement Guarantee Courses                                                                        \\n                                            NEW                                        \\n\\n\\n\\n\\n\\n\\n\\nWork from Home\\nInternship in Bangalore\\nInternship in Delhi\\nInternship in Hyderabad\\nInternship in Mumbai\\nInternship in Chennai\\nInternship in Pune\\nInternship in Kolkata\\nInternship in Jaipur\\nInternational Internship\\nView all internships\\n\\n\\n\\n\\nComputer Science Internship\\nMarketing Internship\\nFinance Internship\\nGraphic Design Internship\\nArchitecture Internship\\nMechanical Internship\\nHR Internship\\nDigital Marketing Internship\\nLaw Internship\\nElectronics Internship\\nContent Writing Internship\\nCivil Internship\\nCampus Ambassador Program\\nView all internships\\n\\n\\n\\n\\nEngineering Internship\\nBusiness/MBA Internship\\nPart-Time Jobs/Internships\\nHumanities Internship\\nScience Internship\\nInternships with Job Offer\\nInternships for Women\\nView all internships\\n\\n\\n\\n\\nInternships by Category\\nInternships by Location\\n\\n\\n\\n\\nFull Stack Development Course\\nData Science Course\\nHuman Resource Management Course\\nDigital Marketing Course\\nElectric Vehicle Course\\nUI/UX Design Course\\nProduct Management Course\\nFinancial Modelling Course\\nSupply Chain Logistics Course\\nBanking Sales Course\\nSoftware Testing Course\\n\\n\\n\\n\\n\\n\\n\\n\\n        Courses                    \\n            OFFER            \\n\\n\\n\\n\\n\\n\\n\\n                        Certification Courses                            \\n\\n\\n                            Web Development                                                            \\n\\n                            Programming with Python                                                            \\n\\n                            Digital Marketing                                                            \\n\\n                            Machine Learning                                                            \\n\\n                            Advanced Excel                                                            \\n\\n                            AutoCAD                                                            \\n\\n                            Data Science                                                            \\n\\n                            Programming with C and C++                                                            \\n\\n\\n                                        View 70+ more courses\\n                                    \\n\\n\\n\\n\\n\\n                        Placement Guarantee Courses                            \\n\\n\\n                            Full Stack Development Course                                                            \\n\\n                            Data Science Course                                                            \\n\\n                            Human Resource Management Course                                                            \\n\\n                            Digital Marketing Course                                                            \\n\\n                            Electric Vehicle Course                                                            \\n\\n                            UI/UX Design Course                                                            \\n\\n                            Product Management Course                                                            \\n\\n                            Financial Modelling Course                                                            \\n\\n                            Supply Chain Logistics Course                                                            \\n\\n                            Banking Sales Course                                                            \\n\\n                            Software Testing Course                                                            \\n\\n\\n\\n\\n\\n\\n\\n\\n\\nJobs\\n        \\n\\n\\n\\n\\n\\n\\n\\n                                Top Locations                                                            \\n\\n\\n\\n\\n\\n                                Top Categories                                                            \\n\\n\\n\\n\\n\\n                                Explore More Jobs                                                            \\n\\n\\n\\n\\n\\n                                Placement Guarantee Courses                                                                        \\n                                            NEW                                        \\n\\n\\n\\n\\n\\n\\n\\nWork from home\\nJobs in Delhi\\nJobs in Mumbai\\nJobs in Bangalore\\nJobs in Hyderabad\\nJobs in Kolkata\\nJobs in Chennai\\nJobs in Pune\\nJobs in Jaipur\\nView all jobs\\n\\n\\n\\n\\nFresher jobs\\nMarketing jobs\\nContent writing jobs\\nComputer science jobs\\nFinance jobs\\nHR jobs\\nGraphic design jobs\\nData science jobs\\nView all jobs\\n\\n\\n\\n\\nJobs by Category\\nJobs by Location\\nJobs by Designation\\nJobs by Skill\\n\\n\\n\\n\\nFull Stack Development Course\\nData Science Course\\nHuman Resource Management Course\\nDigital Marketing Course\\nElectric Vehicle Course\\nUI/UX Design Course\\nProduct Management Course\\nFinancial Modelling Course\\nSupply Chain Logistics Course\\nBanking Sales Course\\nSoftware Testing Course\\n\\n\\n\\n\\n\\n\\n\\nLogin / Register \\n\\n\\n\\n\\n\\n\\nRegister as a student\\n\\n\\nRegister as an employer\\n\\n\\nLogin\\n\\n\\n\\n\\n\\n\\n\\n\\n\\n\\n \\n\\n\\n\\n\\n\\nOne time offer\\n\\n\\n\\n\\n\\n\\n\\n\\n\\nSign up now to unlock\\n\\n\\n\\nFREE AI Career Guide worth ₹599\\n\\n\\n\\nCustom job alerts delivered to your inbox\\n\\n\\n\\n                    Valid only for 05m : 00s\\n\\n\\n\\n                        By signing up, you agree to our Terms and Conditions.\\n                    \\n\\n\\n\\n\\n\\n\\n                                Sign up with Google\\n                            \\n\\n\\n\\nOR\\n\\n\\n\\nSign up with Email\\n\\n\\n\\n\\n\\n\\n\\n\\n\\n\\n\\n\\n\\n        Browse more internships                            \\n\\n\\n    DevOps Internship                    \\n\\n\\n\\n\\n\\n\\n                    DevOps                            \\n\\n\\n\\n                            Sigmoid                                \\n\\n\\n\\n\\n\\n\\n\\n\\n\\n\\nBangalore \\n\\n\\n\\n\\n\\n\\n\\n                        Start Date                                \\n\\n\\nStarts\\xa0immediatelyImmediately \\n\\n\\n\\n\\nDuration\\n\\n\\n                            6 Months                        \\n\\n\\n\\n\\n\\n\\n\\n                                Stipend                            \\n\\n\\n₹ 19,000 - 20,000 /month \\n\\n\\n\\n\\nAPPLY BY\\n\\n9 Jul' 25\\n\\n\\n\\n\\n\\n\\n\\n\\nPosted 1 week ago\\n\\n\\n\\n\\n\\n\\n\\nJob offer upto ₹ 5LPA post internship\\n\\n\\n\\n\\n\\n\\n\\n\\n\\n\\n\\n\\n965 applicants\\n\\n\\n\\n\\n \\n\\n\\n\\nShare on WhatsApp\\n                                \\n\\n\\n\\nShare on LinkedIn\\n                                \\n\\n\\n\\nShare on Facebook\\n                                \\n\\n\\n\\nShare on Twitter\\n                                \\n\\n\\n\\nCopy link\\n                                \\n\\n\\n\\n\\n\\n                    Apply now                        \\n\\n\\n\\n\\n\\n\\n                Apply now                        \\n\\n\\n\\n\\nAbout the internship\\n\\n    Selected intern's day-to-day responsibilities include: \\n\\n1. Create and maintain software solutions using DevOps tools.\\n2. Design, develop, and maintain automation systems.\\n3. Participate in continuous improvement and optimization of the automation model.\\n4. Monitor clusters and ensure everything is working smoothly.\\n5. Set alerts for monitoring the clusters.\\n6. Develop Slack/Microsoft Teams bots to auto-correct infrastructure.\\nSkill(s) required\\n\\nPython\\n\\n\\nEarn certifications in these skills\\n\\n\\nLearn Python\\n\\n\\nLearn Voice App Development\\n\\n\\nLearn Git & Github\\n\\n\\n\\nWho can apply\\n\\nOnly those candidates can apply who:\\n\\n                1. are available for full time (in-office) internship                    \\n\\n                2. can start the internship between 9th Jun'25 and 14th Jul'25                    \\n\\n                3. are available for duration of 6 months                    \\n\\n                4. have relevant skills and interests                    \\n\\n\\nOther requirements\\n\\n\\n                    1. Possess knowledge of software development.                \\n\\n                    2. Understand the basics of Python.                \\n\\n                    3. Use basic Linux commands.                \\n\\n                    4. Demonstrate knowledge of Git.                \\n\\n                    5. Interested in cloud computing, big data tools, and understanding how things work internally.                \\n\\nPerks\\n\\nInformal dress code\\n 5 days a week\\n Free snacks & beverages\\n Job offer\\n\\nAdditional information\\n\\nJob offer: On successful conversion to a permanent employee, the candidate can expect a salary of ₹ 450000 to 500000/year \\nNumber of openings\\n\\n        10    \\n\\n                    About Sigmoid                \\n\\nWebsite \\n\\n\\n        Sigmoid is a leading data solutions company offering best-in-class data engineering and data science services. Our team of 200+ members is strongly driven by the passion for unraveling data complexities. We generate actionable insights and translate them into successful business strategies. We leverage our expertise in open source and cloud technologies to develop innovative frameworks catering to specific client needs. \\n\\r\\nOur unique approach has positively influenced the business performance of our Fortune 1000 clients across the globe. We have a particularly strong presence in advertising technology, retail CPG, and BFSI, wherein we are working with the top players in each of these sectors.    \\n\\nActivity on Internshala\\n\\n\\n\\nHiring since June 2025\\n\\n\\n\\n1 opportunity posted\\n\\n\\n\\n\\n\\n\\n\\n                        Apply now\\n                    \\n\\n\\n\\n\\n\\n\\n\\nAdditional Questions\\n\\n×\\n\\n\\n\\n\\nClose\\n\\n\\n\\n\\n\\n\\n\\n\\n\\nSign up to continue\\n\\n\\n\\n\\n\\n\\n\\n\\n\\n                    Sign up/ Login with Google\\n                \\n\\n\\n\\n\\n\\n\\n                    Sign up with Email\\n                \\n\\n\\n\\n\\n\\n\\nOR\\n\\n\\n\\n\\n\\n\\n\\n\\n\\nEmail\\n\\n\\n\\nPassword\\n\\n\\n\\n\\n\\nFirst Name\\n\\n\\n\\n\\n\\nLast Name\\n\\n\\n\\n\\nSign up\\n\\n\\n\\n                By signing up, you agree to our Terms and Conditions.\\n        \\nAlready registered?\\n                            Login\\n\\n\\n\\n\\n\\n\\n\\n\\n\\n\\n\\n\\n\\nSign up to continue\\n\\n\\n\\n\\n\\n\\n\\n\\n\\n                    Sign up/ Login with Google\\n                \\n\\n\\n\\n\\n\\n\\n                    Sign up with Email\\n                \\n\\n\\n\\n\\n\\n\\nOR\\n\\n\\n\\n\\n\\n\\n\\n\\n\\nEmail\\n\\n\\n\\nPassword\\n\\n\\n\\n\\n\\nFirst Name\\n\\n\\n\\n\\n\\nLast Name\\n\\n\\n\\n\\nSign up\\n\\n\\n\\n                By signing up, you agree to our Terms and Conditions.\\n        \\nAlready registered?\\n                            Login\\n\\n\\n\\n\\n\\n\\n\\n\\n\\n\\n\\n\\n\\n\\n\\nLooking for more such opportunities?\\nRegister now to access 10K+ openings posted daily!\\n\\n\\n\\n\\n\\n\\n\\n                        Sign up with Google\\n                    \\n\\n\\n\\n\\n\\nSign up with Email\\n\\n\\n\\n\\n            By signing up, you agree to our Terms and Conditions.\\n        \\n\\n\\n\\n\\n\\n\\n\\n\\n \\n\\n\\n\\nSimilar internships you can apply to \\n\\n\\n\\n\\n\\n\\n\\n                    Software Development                            \\n\\n\\n\\n                            XHire One                                \\n\\n\\n\\n\\n\\n\\n\\n\\n\\n\\nBangalore                                                    (Hybrid)\\n                                \\n\\n\\n\\n\\n\\n\\n\\n\\n\\nDuration\\n\\n\\n                            3 Months                        \\n\\n\\n\\n\\n\\n\\n\\n                                Stipend                            \\n\\n\\n₹ 8,000 - 10,000 /month \\n\\n\\n\\n\\n\\n\\n\\n\\n\\n\\n\\n\\nView details\\n\\n\\n\\n\\n\\n\\n\\n\\n\\n\\nActively hiring\\n\\n\\n\\n\\n                    Software Development                            \\n\\n\\n\\n                            IPExcel Services Private Limited                                \\n\\n\\n\\n\\n\\n\\n\\n\\n\\n\\nBangalore \\n\\n\\n\\n\\n\\n\\nDuration\\n\\n\\n                            3 Months                        \\n\\n\\n\\n\\n\\n\\n\\n                                Stipend                            \\n\\n\\n₹ 19,000 - 20,000 /month \\n\\n\\n\\n\\n\\n\\n\\n\\n\\n\\n\\n\\nView details\\n\\n\\n\\n\\n\\n\\n\\n\\n\\n\\nActively hiring\\n\\n\\n\\n\\n                    Software Development                            \\n\\n\\n\\n                            Freshers Job Fair .IN                                \\n\\n\\n\\n\\n\\n\\n\\n\\n\\n\\nBangalore \\n\\n\\n\\n\\n\\n\\nDuration\\n\\n\\n                            6 Months                        \\n\\n\\n\\n\\n\\n\\n\\n                                Stipend                            \\n\\n\\n₹ 15,000 - 25,000 /month \\n\\n\\n\\n\\n\\n\\n\\n\\n\\n\\n\\n\\nView details\\n\\n\\n\\n\\n\\n\\n \\n\\n\\n\\n\\n\\n\\n\\nInternships by places\\n\\nInternship in India\\n\\n\\nInternship in Delhi\\n\\n\\nInternship in Bangalore\\n\\n\\nInternship in Hyderabad\\n\\n\\nInternship in Mumbai\\n\\n\\nInternship in Chennai\\n\\n\\nInternship in Gurgaon\\n\\n\\nInternship in Kolkata\\n\\n\\nVirtual internship\\n\\n\\nView all internships\\n\\n\\n\\n\\n\\nInternship by Stream\\n\\nComputer Science Internship\\n\\n\\nElectronics Internship\\n\\n\\nMechanical Internship\\n\\n\\nCivil Internship\\n\\n\\nMarketing Internship\\n\\n\\nChemical Internship\\n\\n\\nFinance Internship\\n\\n\\nSummer Research Fellowship\\n\\n\\nCampus Ambassador Program\\n\\n\\nView all internships\\n\\n\\n\\n\\n\\nJobs by Places\\n\\nJobs in Delhi\\n\\n\\nJobs in Mumbai\\n\\n\\nJobs in Bangalore\\n\\n\\nJobs in Jaipur\\n\\n\\nJobs in Kolkata\\n\\n\\nJobs in Hyderabad\\n\\n\\nJobs in Pune\\n\\n\\nJobs in Chennai\\n\\n\\nJobs in Lucknow\\n\\n\\nView all jobs\\n\\n\\n\\n\\n\\nJobs by Stream\\n\\nMarketing jobs\\n\\n\\nContent writing jobs\\n\\n\\nWeb development jobs\\n\\n\\nSales jobs\\n\\n\\nFinance jobs\\n\\n\\nDigital Marketing jobs\\n\\n\\nComputer Science jobs\\n\\n\\nGraphic Design jobs\\n\\n\\nData Science jobs\\n\\n\\nView all jobs\\n\\n\\n\\n\\n\\n\\n\\nPlacement Guarantee Courses                                \\n\\n\\n\\nFull Stack Development\\n\\n\\nData Science\\n\\n\\nHuman Resource Management\\n\\n\\nDigital Marketing\\n\\n\\nElectric Vehicle\\n\\n\\nUI/UX Design\\n\\n\\nProduct Management\\n\\n\\nFinancial Modelling\\n\\n\\nSupply Chain Logistics\\n\\n\\nBanking Sales\\n\\n\\nSoftware Testing\\n\\n\\n\\nCertification Courses                                                                    OFFER\\n\\n\\n\\n\\n\\n\\n\\n\\n\\n                                Placement Guarantee Courses                            \\n\\n\\n\\n\\nFull Stack Development\\n\\n\\n\\n\\nData Science\\n\\n\\n\\n\\nHuman Resource Management\\n\\n\\n\\n\\nDigital Marketing\\n\\n\\n\\n\\nElectric Vehicle\\n\\n\\n\\n\\nUI/UX Design\\n\\n\\n\\n\\nProduct Management\\n\\n\\n\\n\\nFinancial Modelling\\n\\n\\n\\n\\nSupply Chain Logistics\\n\\n\\n\\n\\nBanking Sales\\n\\n\\n\\n\\nSoftware Testing\\n\\n\\n\\n\\n\\n                                Certification Courses                                                                    OFFER\\n\\n\\n\\n\\n\\n\\nJobs\\n\\nJobs by Category\\n\\n\\nJobs by Location\\n\\n\\nView all jobs\\n\\n\\n\\n\\n\\nAbout Internshala\\n\\n\\n\\nAbout us\\n\\n\\nWe're hiring\\n\\n\\nHire interns for your company\\n\\n\\nPost a Job\\n\\n\\nTeam Diary\\n\\n\\nBlog\\n\\n\\nOur Services\\n\\n\\nFree Job Alerts\\n\\n\\n\\n\\nTerms & Conditions\\n\\n\\nPrivacy\\n\\n\\nContact us\\n\\n\\nSitemap\\n\\n\\nCollege TPO registration\\n\\n\\nList of Companies\\n\\n\\nResume Maker\\n\\n\\nJobs for Women\\n\\n\\n\\n\\n\\n\\n\\n\\n\\n\\nJobs by Places\\n\\nJobs in Delhi\\n\\n\\nJobs in Mumbai\\n\\n\\nJobs in Bangalore\\n\\n\\nJobs in Jaipur\\n\\n\\nJobs in Kolkata\\n\\n\\nJobs in Hyderabad\\n\\n\\nJobs in Pune\\n\\n\\nJobs in Chennai\\n\\n\\nJobs in Lucknow\\n\\n\\nView all jobs\\n\\n\\n\\n\\n\\nJobs by Stream\\n\\nMarketing jobs\\n\\n\\nContent writing jobs\\n\\n\\nWeb development jobs\\n\\n\\nSales jobs\\n\\n\\nFinance jobs\\n\\n\\nDigital Marketing jobs\\n\\n\\nComputer Science jobs\\n\\n\\nGraphic Design jobs\\n\\n\\nData Science jobs\\n\\n\\nView all jobs\\n\\n\\n\\n\\n\\nAbout Internshala\\n\\n\\n\\nAbout us\\n\\n\\nWe're hiring\\n\\n\\nHire interns for your company\\n\\n\\nPost a Job\\n\\n\\nTeam Diary\\n\\n\\nBlog\\n\\n\\nOur Services\\n\\n\\nFree Job Alerts\\n\\n\\nResume Maker\\n\\n\\nJobs for Women\\n\\n\\n\\n\\nTerms & Conditions\\n\\n\\nPrivacy\\n\\n\\nContact us\\n\\n\\nSitemap\\n\\n\\n\\n\\n\\n\\n\\n\\n\\n\\n\\n\\n\\nAbout us\\n\\n\\nWe're hiring\\n\\n\\nHire interns for your company\\n\\n\\nPost a Job\\n\\n\\n\\n\\n\\n\\nTeam Diary\\n\\n\\nBlog\\n\\n\\nOur Services\\n\\n\\nFree Job Alerts\\n\\n\\n\\n\\n\\n\\nTerms & Conditions\\n\\n\\nPrivacy\\n\\n\\nContact us\\n\\n\\nResume Maker\\n\\n\\n\\n\\n\\n\\nSitemap\\n\\n\\nCollege TPO registration\\n\\n\\nList of Companies\\n\\n\\nJobs for Women\\n\\n\\n\\n\\n\\n\\n\\n\\n\\n\\n\\n\\n\\n\\n\\n\\n\\n\\n\\n\\n\\n\\n\\n\\n                    © Copyright 2025 Internshala (Scholiverse Educare Private Limited)\\n                \\n\\n\\n\\n\\n\\n\\n\\n\\n\\n\\n\\n\\nHome\\n\\n\\n\\n\\n\\n\\nInternships\\n\\n\\n\\n\\n\\nJobs\\n\\n\\n\\n\\n\\n\\nCourses\\n\\n\\n\\n\\n\\n\\n\\n\\n\\n\\n\\n\\n\\n\\n\\n\\n\""
      ]
     },
     "execution_count": 22,
     "metadata": {},
     "output_type": "execute_result"
    }
   ],
   "source": [
    "from langchain_community.document_loaders import WebBaseLoader\n",
    "\n",
    "loader = WebBaseLoader(\"https://internshala.com/internship/detail/devops-internship-in-bangalore-at-sigmoid1749452837/\")\n",
    "docs=loader.load().pop().page_content\n",
    "docs"
   ]
  },
  {
   "cell_type": "code",
   "execution_count": 3,
   "id": "b8630843",
   "metadata": {},
   "outputs": [],
   "source": [
    "from langchain_core.output_parsers import JsonOutputParser\n",
    "from langchain_core.prompts import PromptTemplate\n",
    "from pydantic import BaseModel, Field\n"
   ]
  },
  {
   "cell_type": "code",
   "execution_count": 4,
   "id": "b06523ca",
   "metadata": {},
   "outputs": [],
   "source": [
    "class JD(BaseModel):\n",
    "    role:str=Field(description=\"Role of the job\")\n",
    "    experience:int=Field(description=\"experience needed for the job in years\")\n",
    "    skills:list[str]=Field(description=\"skills required of the job\")\n",
    "parser =JsonOutputParser(pydantic_object=JD)\n"
   ]
  },
  {
   "cell_type": "code",
   "execution_count": 5,
   "id": "0e5d83f0",
   "metadata": {},
   "outputs": [],
   "source": [
    "prompt = \"\"\"\n",
    "You are an intelligent extraction agent.\n",
    "\n",
    " {format}\n",
    "\n",
    "\n",
    "\n",
    "Here is the job description:\n",
    "{job_description}\n",
    "\n",
    "Only return a valid JSON response. Do not include any explanation or extra text.\n",
    "\"\"\"\n"
   ]
  },
  {
   "cell_type": "code",
   "execution_count": 6,
   "id": "704acd9d",
   "metadata": {},
   "outputs": [],
   "source": [
    "prompt_temp=PromptTemplate.from_template(template=prompt,nput_variables=[\"job_description\"],partial_variables={\"format\":parser.get_format_instructions()})\n"
   ]
  },
  {
   "cell_type": "code",
   "execution_count": 7,
   "id": "16afbade",
   "metadata": {},
   "outputs": [],
   "source": [
    "chain=prompt_temp|llm|parser"
   ]
  },
  {
   "cell_type": "code",
   "execution_count": 8,
   "id": "100a9982",
   "metadata": {},
   "outputs": [],
   "source": [
    "json_res=chain.invoke(input={\"job_description\":docs},)\n",
    "\n"
   ]
  },
  {
   "cell_type": "code",
   "execution_count": 9,
   "id": "2dcb03cc",
   "metadata": {},
   "outputs": [],
   "source": [
    "import pandas as pd"
   ]
  },
  {
   "cell_type": "code",
   "execution_count": 10,
   "id": "cd01ba7d",
   "metadata": {},
   "outputs": [
    {
     "data": {
      "text/html": [
       "<div>\n",
       "<style scoped>\n",
       "    .dataframe tbody tr th:only-of-type {\n",
       "        vertical-align: middle;\n",
       "    }\n",
       "\n",
       "    .dataframe tbody tr th {\n",
       "        vertical-align: top;\n",
       "    }\n",
       "\n",
       "    .dataframe thead th {\n",
       "        text-align: right;\n",
       "    }\n",
       "</style>\n",
       "<table border=\"1\" class=\"dataframe\">\n",
       "  <thead>\n",
       "    <tr style=\"text-align: right;\">\n",
       "      <th></th>\n",
       "      <th>Techstack</th>\n",
       "      <th>Links</th>\n",
       "    </tr>\n",
       "  </thead>\n",
       "  <tbody>\n",
       "    <tr>\n",
       "      <th>0</th>\n",
       "      <td>React, Node.js, MongoDB</td>\n",
       "      <td>https://example.com/react-portfolio</td>\n",
       "    </tr>\n",
       "    <tr>\n",
       "      <th>1</th>\n",
       "      <td>Angular,.NET, SQL Server</td>\n",
       "      <td>https://example.com/angular-portfolio</td>\n",
       "    </tr>\n",
       "    <tr>\n",
       "      <th>2</th>\n",
       "      <td>Vue.js, Ruby on Rails, PostgreSQL</td>\n",
       "      <td>https://example.com/vue-portfolio</td>\n",
       "    </tr>\n",
       "    <tr>\n",
       "      <th>3</th>\n",
       "      <td>Python, Django, MySQL</td>\n",
       "      <td>https://example.com/python-portfolio</td>\n",
       "    </tr>\n",
       "    <tr>\n",
       "      <th>4</th>\n",
       "      <td>Java, Spring Boot, Oracle</td>\n",
       "      <td>https://example.com/java-portfolio</td>\n",
       "    </tr>\n",
       "    <tr>\n",
       "      <th>5</th>\n",
       "      <td>Flutter, Firebase, GraphQL</td>\n",
       "      <td>https://example.com/flutter-portfolio</td>\n",
       "    </tr>\n",
       "    <tr>\n",
       "      <th>6</th>\n",
       "      <td>WordPress, PHP, MySQL</td>\n",
       "      <td>https://example.com/wordpress-portfolio</td>\n",
       "    </tr>\n",
       "    <tr>\n",
       "      <th>7</th>\n",
       "      <td>Magento, PHP, MySQL</td>\n",
       "      <td>https://example.com/magento-portfolio</td>\n",
       "    </tr>\n",
       "    <tr>\n",
       "      <th>8</th>\n",
       "      <td>React Native, Node.js, MongoDB</td>\n",
       "      <td>https://example.com/react-native-portfolio</td>\n",
       "    </tr>\n",
       "    <tr>\n",
       "      <th>9</th>\n",
       "      <td>iOS, Swift, Core Data</td>\n",
       "      <td>https://example.com/ios-portfolio</td>\n",
       "    </tr>\n",
       "    <tr>\n",
       "      <th>10</th>\n",
       "      <td>Android, Java, Room Persistence</td>\n",
       "      <td>https://example.com/android-portfolio</td>\n",
       "    </tr>\n",
       "    <tr>\n",
       "      <th>11</th>\n",
       "      <td>Kotlin, Android, Firebase</td>\n",
       "      <td>https://example.com/kotlin-android-portfolio</td>\n",
       "    </tr>\n",
       "    <tr>\n",
       "      <th>12</th>\n",
       "      <td>Android TV, Kotlin, Android NDK</td>\n",
       "      <td>https://example.com/android-tv-portfolio</td>\n",
       "    </tr>\n",
       "    <tr>\n",
       "      <th>13</th>\n",
       "      <td>iOS, Swift, ARKit</td>\n",
       "      <td>https://example.com/ios-ar-portfolio</td>\n",
       "    </tr>\n",
       "    <tr>\n",
       "      <th>14</th>\n",
       "      <td>Cross-platform, Xamarin, Azure</td>\n",
       "      <td>https://example.com/xamarin-portfolio</td>\n",
       "    </tr>\n",
       "    <tr>\n",
       "      <th>15</th>\n",
       "      <td>Backend, Kotlin, Spring Boot</td>\n",
       "      <td>https://example.com/kotlin-backend-portfolio</td>\n",
       "    </tr>\n",
       "    <tr>\n",
       "      <th>16</th>\n",
       "      <td>Frontend, TypeScript, Angular</td>\n",
       "      <td>https://example.com/typescript-frontend-portfolio</td>\n",
       "    </tr>\n",
       "    <tr>\n",
       "      <th>17</th>\n",
       "      <td>Full-stack, JavaScript, Express.js</td>\n",
       "      <td>https://example.com/full-stack-js-portfolio</td>\n",
       "    </tr>\n",
       "    <tr>\n",
       "      <th>18</th>\n",
       "      <td>Machine Learning, Python, TensorFlow</td>\n",
       "      <td>https://example.com/ml-python-portfolio</td>\n",
       "    </tr>\n",
       "    <tr>\n",
       "      <th>19</th>\n",
       "      <td>DevOps, Jenkins, Docker</td>\n",
       "      <td>https://example.com/devops-portfolio</td>\n",
       "    </tr>\n",
       "  </tbody>\n",
       "</table>\n",
       "</div>"
      ],
      "text/plain": [
       "                               Techstack  \\\n",
       "0                React, Node.js, MongoDB   \n",
       "1               Angular,.NET, SQL Server   \n",
       "2      Vue.js, Ruby on Rails, PostgreSQL   \n",
       "3                  Python, Django, MySQL   \n",
       "4              Java, Spring Boot, Oracle   \n",
       "5             Flutter, Firebase, GraphQL   \n",
       "6                  WordPress, PHP, MySQL   \n",
       "7                    Magento, PHP, MySQL   \n",
       "8         React Native, Node.js, MongoDB   \n",
       "9                  iOS, Swift, Core Data   \n",
       "10       Android, Java, Room Persistence   \n",
       "11             Kotlin, Android, Firebase   \n",
       "12       Android TV, Kotlin, Android NDK   \n",
       "13                     iOS, Swift, ARKit   \n",
       "14        Cross-platform, Xamarin, Azure   \n",
       "15          Backend, Kotlin, Spring Boot   \n",
       "16         Frontend, TypeScript, Angular   \n",
       "17    Full-stack, JavaScript, Express.js   \n",
       "18  Machine Learning, Python, TensorFlow   \n",
       "19               DevOps, Jenkins, Docker   \n",
       "\n",
       "                                                Links  \n",
       "0                 https://example.com/react-portfolio  \n",
       "1               https://example.com/angular-portfolio  \n",
       "2                   https://example.com/vue-portfolio  \n",
       "3                https://example.com/python-portfolio  \n",
       "4                  https://example.com/java-portfolio  \n",
       "5               https://example.com/flutter-portfolio  \n",
       "6             https://example.com/wordpress-portfolio  \n",
       "7               https://example.com/magento-portfolio  \n",
       "8          https://example.com/react-native-portfolio  \n",
       "9                   https://example.com/ios-portfolio  \n",
       "10              https://example.com/android-portfolio  \n",
       "11       https://example.com/kotlin-android-portfolio  \n",
       "12           https://example.com/android-tv-portfolio  \n",
       "13               https://example.com/ios-ar-portfolio  \n",
       "14              https://example.com/xamarin-portfolio  \n",
       "15       https://example.com/kotlin-backend-portfolio  \n",
       "16  https://example.com/typescript-frontend-portfolio  \n",
       "17        https://example.com/full-stack-js-portfolio  \n",
       "18            https://example.com/ml-python-portfolio  \n",
       "19               https://example.com/devops-portfolio  "
      ]
     },
     "execution_count": 10,
     "metadata": {},
     "output_type": "execute_result"
    }
   ],
   "source": [
    "df=pd.read_csv(\"my_portfolio.csv\")\n",
    "df"
   ]
  },
  {
   "cell_type": "code",
   "execution_count": 11,
   "id": "b37680ce",
   "metadata": {},
   "outputs": [],
   "source": [
    "import chromadb\n",
    "from chromadb.config import Settings\n",
    "from chromadb import PersistentClient"
   ]
  },
  {
   "cell_type": "code",
   "execution_count": 12,
   "id": "7cb6e6e9",
   "metadata": {},
   "outputs": [],
   "source": [
    "client = PersistentClient(\"my_chroma_db\")\n",
    "collection = client.get_or_create_collection(\"my_collection\")"
   ]
  },
  {
   "cell_type": "code",
   "execution_count": 13,
   "id": "bcf5f04c",
   "metadata": {},
   "outputs": [],
   "source": [
    "import uuid\n",
    "\n",
    "\n",
    "if not collection.count():\n",
    "    for _,row in df.iterrows():\n",
    "        print(row)\n",
    "        collection.add(documents=row[\"Techstack\"],metadatas={\"links\":row[\"Links\"]},ids=[str(uuid.uuid4())])"
   ]
  },
  {
   "cell_type": "code",
   "execution_count": 14,
   "id": "ea3ef627",
   "metadata": {},
   "outputs": [
    {
     "data": {
      "text/plain": [
       "{'role': 'DevOps Intern',\n",
       " 'experience': 0,\n",
       " 'skills': ['Python',\n",
       "  'DevOps tools',\n",
       "  'Automation systems',\n",
       "  'Cloud computing',\n",
       "  'Big data tools']}"
      ]
     },
     "execution_count": 14,
     "metadata": {},
     "output_type": "execute_result"
    }
   ],
   "source": [
    "json_res"
   ]
  },
  {
   "cell_type": "code",
   "execution_count": 15,
   "id": "9c70e19b",
   "metadata": {},
   "outputs": [
    {
     "data": {
      "text/plain": [
       "[[{'links': 'https://example.com/ml-python-portfolio'},\n",
       "  {'links': 'https://example.com/python-portfolio'}],\n",
       " [{'links': 'https://example.com/devops-portfolio'},\n",
       "  {'links': 'https://example.com/ios-ar-portfolio'}],\n",
       " [{'links': 'https://example.com/ml-python-portfolio'},\n",
       "  {'links': 'https://example.com/magento-portfolio'}],\n",
       " [{'links': 'https://example.com/xamarin-portfolio'},\n",
       "  {'links': 'https://example.com/devops-portfolio'}],\n",
       " [{'links': 'https://example.com/ml-python-portfolio'},\n",
       "  {'links': 'https://example.com/flutter-portfolio'}]]"
      ]
     },
     "execution_count": 15,
     "metadata": {},
     "output_type": "execute_result"
    }
   ],
   "source": [
    "links=collection.query(query_texts=json_res[\"skills\"],n_results=2).get(\"metadatas\")\n",
    "links"
   ]
  },
  {
   "cell_type": "code",
   "execution_count": 16,
   "id": "4403b9f2",
   "metadata": {},
   "outputs": [],
   "source": [
    "prompt_email = PromptTemplate.from_template(\n",
    "        template=    \"\"\"\n",
    "            ### JOB DESCRIPTION:\n",
    "            {job_description}\n",
    "\n",
    "            ### INSTRUCTION:\n",
    "            You are Mohan, a business development executive at AtliQ. AtliQ is an AI & Software Consulting company dedicated to facilitating\n",
    "            the seamless integration of business processes through automated tools. \n",
    "            Over our experience, we have empowered numerous enterprises with tailored solutions, fostering scalability, \n",
    "            process optimization, cost reduction, and heightened overall efficiency. \n",
    "            Your job is to write a cold email to the client regarding the job mentioned above describing the capability of AtliQ \n",
    "            in fulfilling their needs.\n",
    "            Also add the most relevant ones from the following links to showcase Atliq's portfolio: {link_list}\n",
    "            Remember you are Mohan, BDE at AtliQ. \n",
    "            Do not provide a preamble.\n",
    "            ### EMAIL (NO PREAMBLE):\n",
    "\n",
    "            \"\"\",\n",
    "\n",
    "        )\n"
   ]
  },
  {
   "cell_type": "code",
   "execution_count": 17,
   "id": "dbdc5716",
   "metadata": {},
   "outputs": [],
   "source": [
    "email_chain=prompt_email|llm"
   ]
  },
  {
   "cell_type": "code",
   "execution_count": 20,
   "id": "6747829f",
   "metadata": {},
   "outputs": [],
   "source": [
    "from markdown import markdown\n",
    "from IPython.display import display, HTML"
   ]
  },
  {
   "cell_type": "code",
   "execution_count": 21,
   "id": "60ee3f5b",
   "metadata": {},
   "outputs": [
    {
     "data": {
      "text/html": [
       "<p>Subject: Unlock Efficient DevOps Solutions with AtliQ</p>\n",
       "<p>Dear Hiring Manager at Sigmoid,</p>\n",
       "<p>I came across the DevOps Internship opportunity at Sigmoid and was impressed by the project's scope and requirements. As a Business Development Executive at AtliQ, I'd like to introduce our company's capabilities in fulfilling your needs.</p>\n",
       "<p>AtliQ is an AI &amp; Software Consulting company dedicated to streamlining business processes through automated tools. Our team has empowered numerous enterprises with tailored solutions, fostering scalability, process optimization, cost reduction, and heightened overall efficiency.</p>\n",
       "<p>We've successfully delivered projects in various domains, including:</p>\n",
       "<ul>\n",
       "<li><strong>DevOps</strong>: Our expertise in DevOps has enabled clients to automate their infrastructure, improve deployment efficiency, and enhance collaboration among teams. You can view our DevOps portfolio here: https://example.com/devops-portfolio</li>\n",
       "<li><strong>Machine Learning &amp; Python</strong>: We've developed AI-powered solutions using Python, leveraging libraries like scikit-learn and TensorFlow. Our portfolio showcases our expertise in ML &amp; Python: https://example.com/ml-python-portfolio</li>\n",
       "<li><strong>Cloud Computing</strong>: Our team has experience in designing and implementing cloud-based solutions using AWS and Azure. You can explore our cloud computing portfolio here: https://example.com/cloud-portfolio</li>\n",
       "<li><strong>Mobile App Development</strong>: We've developed mobile apps using Xamarin, Flutter, and React Native. Our portfolio highlights our expertise in mobile app development: https://example.com/xamarin-portfolio, https://example.com/flutter-portfolio</li>\n",
       "</ul>\n",
       "<p>Our team is well-versed in tools like Git, Jenkins, Docker, and Kubernetes, ensuring seamless integration with your existing infrastructure. We'd be delighted to discuss how AtliQ can support your DevOps initiatives and help you achieve your goals.</p>\n",
       "<p>If you're interested in learning more about our capabilities and how we can assist Sigmoid, please don't hesitate to reach out. I'd be happy to schedule a call to explore further.</p>\n",
       "<p>Best regards,</p>\n",
       "<p>Mohan\n",
       "Business Development Executive\n",
       "AtliQ</p>"
      ],
      "text/plain": [
       "<IPython.core.display.HTML object>"
      ]
     },
     "metadata": {},
     "output_type": "display_data"
    }
   ],
   "source": [
    "res=email_chain.invoke({\n",
    "    \"job_description\": docs,\n",
    "    \"link_list\": links\n",
    "})\n",
    "html=markdown(res.content)\n",
    "display(HTML(html))"
   ]
  }
 ],
 "metadata": {
  "kernelspec": {
   "display_name": "email",
   "language": "python",
   "name": "python3"
  },
  "language_info": {
   "codemirror_mode": {
    "name": "ipython",
    "version": 3
   },
   "file_extension": ".py",
   "mimetype": "text/x-python",
   "name": "python",
   "nbconvert_exporter": "python",
   "pygments_lexer": "ipython3",
   "version": "3.9.23"
  }
 },
 "nbformat": 4,
 "nbformat_minor": 5
}
