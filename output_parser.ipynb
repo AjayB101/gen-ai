{
 "cells": [
  {
   "cell_type": "code",
   "execution_count": 1,
   "id": "5cdcc1db",
   "metadata": {},
   "outputs": [
    {
     "name": "stderr",
     "output_type": "stream",
     "text": [
      "/Users/user/Documents/GitHub/gen-ai/.venv/lib/python3.9/site-packages/urllib3/__init__.py:35: NotOpenSSLWarning: urllib3 v2 only supports OpenSSL 1.1.1+, currently the 'ssl' module is compiled with 'LibreSSL 2.8.3'. See: https://github.com/urllib3/urllib3/issues/3020\n",
      "  warnings.warn(\n"
     ]
    }
   ],
   "source": [
    "from hf_utils import get_hf_endpoint"
   ]
  },
  {
   "cell_type": "code",
   "execution_count": 2,
   "id": "cc722f1f",
   "metadata": {},
   "outputs": [
    {
     "name": "stderr",
     "output_type": "stream",
     "text": [
      "/Users/user/Documents/GitHub/gen-ai/.venv/lib/python3.9/site-packages/tqdm/auto.py:21: TqdmWarning: IProgress not found. Please update jupyter and ipywidgets. See https://ipywidgets.readthedocs.io/en/stable/user_install.html\n",
      "  from .autonotebook import tqdm as notebook_tqdm\n"
     ]
    }
   ],
   "source": [
    "llm=get_hf_endpoint()"
   ]
  },
  {
   "cell_type": "code",
   "execution_count": 3,
   "id": "be80606b",
   "metadata": {},
   "outputs": [],
   "source": [
    "from langchain_core.output_parsers import JsonOutputParser\n",
    "from langchain_core.prompts import PromptTemplate\n",
    "from pydantic import BaseModel, Field"
   ]
  },
  {
   "cell_type": "code",
   "execution_count": 4,
   "id": "cb5056f3",
   "metadata": {},
   "outputs": [],
   "source": [
    "propmt=\"\"\"\n",
    "Generate a joke based on the user {query}\n",
    "by following this format {format}\n",
    "\"\"\""
   ]
  },
  {
   "cell_type": "markdown",
   "id": "800b5fc1",
   "metadata": {},
   "source": [
    "JSON PARSER"
   ]
  },
  {
   "cell_type": "code",
   "execution_count": null,
   "id": "4d6afb09",
   "metadata": {},
   "outputs": [],
   "source": [
    "class Joke(BaseModel):\n",
    "    setup:str=Field(description=\"Setup of the joke\")\n",
    "    punchline:str=Field(description=\"Punchline of the joke\")\n",
    "json_parser=JsonOutputParser(pydantic_object=Joke)\n"
   ]
  },
  {
   "cell_type": "code",
   "execution_count": 6,
   "id": "8c402232",
   "metadata": {},
   "outputs": [],
   "source": [
    "\n",
    "prompt_temp=PromptTemplate(\n",
    "    input_variables=[\"query\"],\n",
    "    partial_variables={\"format\":json_parser.get_format_instructions()},\n",
    "    template=propmt\n",
    ")"
   ]
  },
  {
   "cell_type": "code",
   "execution_count": 7,
   "id": "149562eb",
   "metadata": {},
   "outputs": [],
   "source": [
    "chain=(prompt_temp|llm|json_parser)"
   ]
  },
  {
   "cell_type": "code",
   "execution_count": 8,
   "id": "625326f6",
   "metadata": {},
   "outputs": [
    {
     "data": {
      "text/plain": [
       "{'setup': 'Why do soldiers love battlefield archaeology so much?',\n",
       " 'punchline': 'Because they enjoy digging up their past mistakes!'}"
      ]
     },
     "execution_count": 8,
     "metadata": {},
     "output_type": "execute_result"
    }
   ],
   "source": [
    "chain.invoke({\"query\":\"i want to hear a joke related to war\"})"
   ]
  },
  {
   "cell_type": "markdown",
   "id": "f4f512be",
   "metadata": {},
   "source": []
  }
 ],
 "metadata": {
  "kernelspec": {
   "display_name": ".venv",
   "language": "python",
   "name": "python3"
  },
  "language_info": {
   "codemirror_mode": {
    "name": "ipython",
    "version": 3
   },
   "file_extension": ".py",
   "mimetype": "text/x-python",
   "name": "python",
   "nbconvert_exporter": "python",
   "pygments_lexer": "ipython3",
   "version": "3.9.6"
  }
 },
 "nbformat": 4,
 "nbformat_minor": 5
}
