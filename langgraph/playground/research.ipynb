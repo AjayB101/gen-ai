{
 "cells": [
  {
   "cell_type": "code",
   "execution_count": 15,
   "id": "e5d43721",
   "metadata": {},
   "outputs": [],
   "source": [
    "from agent import Agent\n"
   ]
  },
  {
   "cell_type": "code",
   "execution_count": 16,
   "id": "daa90f50",
   "metadata": {},
   "outputs": [],
   "source": [
    "agent=Agent()\n",
    "llm=agent.get_agent()"
   ]
  },
  {
   "cell_type": "code",
   "execution_count": 17,
   "id": "072e9ce2",
   "metadata": {},
   "outputs": [],
   "source": [
    "from langgraph.graph import StateGraph, MessagesState, START, END\n",
    "from langgraph.prebuilt import ToolNode\n",
    "from langchain_community.tools import TavilySearchResults\n",
    "from IPython.display import Image"
   ]
  },
  {
   "cell_type": "code",
   "execution_count": 18,
   "id": "e151ba6b",
   "metadata": {},
   "outputs": [],
   "source": [
    "def shall_proceed(state:MessagesState):\n",
    "    messages=state['messages']\n",
    "    last_message=messages[-1]\n",
    "    if last_message.tool_calls:\n",
    "        return \"tools\"\n",
    "    else:\n",
    "        return END"
   ]
  },
  {
   "cell_type": "code",
   "execution_count": 19,
   "id": "ad7928b7",
   "metadata": {},
   "outputs": [],
   "source": [
    "def search(state:MessagesState):\n",
    "    messages=state['messages']\n",
    "    res=llm.invoke(messages)\n",
    "    return {\"messages\":messages +[res]}\n",
    "    "
   ]
  },
  {
   "cell_type": "code",
   "execution_count": 20,
   "id": "548d1a7e",
   "metadata": {},
   "outputs": [
    {
     "data": {
      "text/plain": [
       "<langgraph.graph.state.StateGraph at 0x110d5f310>"
      ]
     },
     "execution_count": 20,
     "metadata": {},
     "output_type": "execute_result"
    }
   ],
   "source": [
    "graph = StateGraph(MessagesState)\n",
    "graph.add_node(\"agent\",search)\n"
   ]
  },
  {
   "cell_type": "code",
   "execution_count": 21,
   "id": "1e53dc99",
   "metadata": {},
   "outputs": [],
   "source": [
    "from dotenv import load_dotenv"
   ]
  },
  {
   "cell_type": "code",
   "execution_count": 22,
   "id": "3f587b75",
   "metadata": {},
   "outputs": [
    {
     "data": {
      "text/plain": [
       "True"
      ]
     },
     "execution_count": 22,
     "metadata": {},
     "output_type": "execute_result"
    }
   ],
   "source": [
    "load_dotenv()"
   ]
  },
  {
   "cell_type": "code",
   "execution_count": 23,
   "id": "ee82e76e",
   "metadata": {},
   "outputs": [],
   "source": [
    "search_tool=TavilySearchResults(max_results=5)\n",
    "tools=[search_tool]\n",
    "tool_node=ToolNode(tools)"
   ]
  },
  {
   "cell_type": "code",
   "execution_count": 24,
   "id": "24d4de18",
   "metadata": {},
   "outputs": [
    {
     "data": {
      "text/plain": [
       "<langgraph.graph.state.StateGraph at 0x110d5f310>"
      ]
     },
     "execution_count": 24,
     "metadata": {},
     "output_type": "execute_result"
    }
   ],
   "source": [
    "graph.add_node(\"tools\",tool_node)\n"
   ]
  },
  {
   "cell_type": "code",
   "execution_count": 25,
   "id": "2ccedcbc",
   "metadata": {},
   "outputs": [
    {
     "data": {
      "text/plain": [
       "<langgraph.graph.state.StateGraph at 0x110d5f310>"
      ]
     },
     "execution_count": 25,
     "metadata": {},
     "output_type": "execute_result"
    }
   ],
   "source": [
    "graph.add_edge(START,\"agent\")\n",
    "graph.add_conditional_edges(\"agent\",shall_proceed)\n"
   ]
  },
  {
   "cell_type": "code",
   "execution_count": 26,
   "id": "8b1e2515",
   "metadata": {},
   "outputs": [],
   "source": [
    "comp_graph=graph.compile()"
   ]
  },
  {
   "cell_type": "code",
   "execution_count": null,
   "id": "84b1cd9e",
   "metadata": {},
   "outputs": [],
   "source": [
    "comp_graph.invoke({\n",
    "    \"messages\":\"How to improve productivity using aio\"\n",
    "})"
   ]
  }
 ],
 "metadata": {
  "kernelspec": {
   "display_name": "graph",
   "language": "python",
   "name": "python3"
  },
  "language_info": {
   "codemirror_mode": {
    "name": "ipython",
    "version": 3
   },
   "file_extension": ".py",
   "mimetype": "text/x-python",
   "name": "python",
   "nbconvert_exporter": "python",
   "pygments_lexer": "ipython3",
   "version": "3.9.23"
  }
 },
 "nbformat": 4,
 "nbformat_minor": 5
}
