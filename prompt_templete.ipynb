{
 "cells": [
  {
   "cell_type": "code",
   "execution_count": null,
   "id": "780bfa78",
   "metadata": {},
   "outputs": [
    {
     "name": "stderr",
     "output_type": "stream",
     "text": [
      "/Users/user/Documents/GitHub/gen-ai/.venv/lib/python3.9/site-packages/urllib3/__init__.py:35: NotOpenSSLWarning: urllib3 v2 only supports OpenSSL 1.1.1+, currently the 'ssl' module is compiled with 'LibreSSL 2.8.3'. See: https://github.com/urllib3/urllib3/issues/3020\n",
      "  warnings.warn(\n"
     ]
    }
   ],
   "source": [
    "from langchain_huggingface import ChatHuggingFace\n",
    "from langchain_core.prompts import PromptTemplate\n",
    "from hf_utils import get_hf_endpoint"
   ]
  },
  {
   "cell_type": "code",
   "execution_count": 2,
   "id": "fad92fa6",
   "metadata": {},
   "outputs": [
    {
     "name": "stderr",
     "output_type": "stream",
     "text": [
      "/Users/user/Documents/GitHub/gen-ai/.venv/lib/python3.9/site-packages/tqdm/auto.py:21: TqdmWarning: IProgress not found. Please update jupyter and ipywidgets. See https://ipywidgets.readthedocs.io/en/stable/user_install.html\n",
      "  from .autonotebook import tqdm as notebook_tqdm\n"
     ]
    }
   ],
   "source": [
    "llm = get_hf_endpoint()"
   ]
  },
  {
   "cell_type": "code",
   "execution_count": 3,
   "id": "179365be",
   "metadata": {},
   "outputs": [],
   "source": [
    "chat =ChatHuggingFace(llm=llm,verbose=True)"
   ]
  },
  {
   "cell_type": "code",
   "execution_count": 4,
   "id": "e25759c5",
   "metadata": {},
   "outputs": [],
   "source": [
    "prompt=\"explain aboout {topic} in {language}\"\n",
    "prompt_temp=PromptTemplate.from_template(template=prompt)\n",
    "inputs=[(\"GenAi\",\"English\"),(\"Fintech\",\"French\"),(\"Buisness Analytics\",\"Tamil\")]\n",
    "prompts=[prompt_temp.format(topic=topic,language=lang) for topic,lang in inputs]\n",
    "\n"
   ]
  },
  {
   "cell_type": "code",
   "execution_count": 5,
   "id": "b3f1d9dd",
   "metadata": {},
   "outputs": [
    {
     "data": {
      "text/plain": [
       "[AIMessage(content='GenAI refers to the field of artificial intelligence that focuses on generating new content, solutions, or responses that can imitate or replicate human creativity and intellect. Developed from advanced machine learning and natural language processing techniques, GenAI is used in various applications, including generating text, images, music, and code. It aims to enhance automation and efficiency across various industries and to create tools that can support human creativity and decision-making processes.', additional_kwargs={}, response_metadata={'token_usage': {'completion_tokens': 96, 'prompt_tokens': 12, 'total_tokens': 108}, 'model_name': 'microsoft/Phi-3-mini-4k-instruct', 'system_fingerprint': '3.2.1-sha-4d28897', 'finish_reason': 'stop', 'logprobs': None}, id='run--599579aa-24f1-48f3-8f06-5f18d893bead-0', usage_metadata={'input_tokens': 12, 'output_tokens': 96, 'total_tokens': 108}),\n",
       " AIMessage(content=\"L'informatique financière, communément appelée Fintech, est le domaine qui se penche sur l'application de la technologie de pointe dans le secteur financier. Elle vise à offrir de nouveaux produits, services, processus d'amorçage et de distribution, ainsi qu'à améliorer la gestion et la commodité pour les consommateurs, les entreprises et les institutions financières. Cela comprend l'usage de la blockchain pour la sécurité, des banques en ligne pour des services bancaires raccourcis, des systèmes de paiement cashless et des services de mobiles de signatures.\", additional_kwargs={}, response_metadata={'token_usage': {'completion_tokens': 149, 'prompt_tokens': 11, 'total_tokens': 160}, 'model_name': 'microsoft/Phi-3-mini-4k-instruct', 'system_fingerprint': '3.2.1-sha-4d28897', 'finish_reason': 'stop', 'logprobs': None}, id='run--a2dcf4f4-eecc-418a-8b6e-b6b1db60341b-0', usage_metadata={'input_tokens': 11, 'output_tokens': 149, 'total_tokens': 160}),\n",
       " AIMessage(content='புகைமிகரஸ்ட் அகாரியல் அரிசிகைகள் இந்த கலையிற் பெருவை மோதல் உள்ளத்துக்கு அரிசிக்கைகள் oru தங்கள் அறிவிப்பு மற்றும் செய்யலாமையை குடிப்பு வரையில் உள்ளன. இந்த நிரல் குறிப்பிடும் விளிவுக்கு மற்றும் முறையில் இம்மதுபிடிக்கப்படுகிறார்களுக்கு முக்கிய ஆண்டர்கள் உரைக்கும், புகைமிகர் ஐக்கிய சீர்ந்திரம் எனப் புகையின் அகாரக்களில் குறிப்புங்கள், வரையறைவுகள் உள்ளன. இந்த தொடக்கம் என EN.விளக்கக் காட்சிங்கள்மற்ற அந்த நுகரான செயலாக்கவும், இந்த செயலையின் வரிசை மற்றும் முறைகளை உள்ளடக்குகின்றது.', additional_kwargs={}, response_metadata={'token_usage': {'completion_tokens': 539, 'prompt_tokens': 15, 'total_tokens': 554}, 'model_name': 'microsoft/Phi-3-mini-4k-instruct', 'system_fingerprint': '3.2.1-sha-4d28897', 'finish_reason': 'stop', 'logprobs': None}, id='run--6d49145b-dda9-4c9d-9d0d-67a2e13fb67e-0', usage_metadata={'input_tokens': 15, 'output_tokens': 539, 'total_tokens': 554})]"
      ]
     },
     "execution_count": 5,
     "metadata": {},
     "output_type": "execute_result"
    }
   ],
   "source": [
    "responses=chat.map().invoke(prompts)\n",
    "responses"
   ]
  },
  {
   "cell_type": "code",
   "execution_count": 6,
   "id": "dcf4a3ec",
   "metadata": {},
   "outputs": [
    {
     "name": "stdout",
     "output_type": "stream",
     "text": [
      "GenAI refers to the field of artificial intelligence that focuses on generating new content, solutions, or responses that can imitate or replicate human creativity and intellect. Developed from advanced machine learning and natural language processing techniques, GenAI is used in various applications, including generating text, images, music, and code. It aims to enhance automation and efficiency across various industries and to create tools that can support human creativity and decision-making processes.\n",
      "L'informatique financière, communément appelée Fintech, est le domaine qui se penche sur l'application de la technologie de pointe dans le secteur financier. Elle vise à offrir de nouveaux produits, services, processus d'amorçage et de distribution, ainsi qu'à améliorer la gestion et la commodité pour les consommateurs, les entreprises et les institutions financières. Cela comprend l'usage de la blockchain pour la sécurité, des banques en ligne pour des services bancaires raccourcis, des systèmes de paiement cashless et des services de mobiles de signatures.\n",
      "புகைமிகரஸ்ட் அகாரியல் அரிசிகைகள் இந்த கலையிற் பெருவை மோதல் உள்ளத்துக்கு அரிசிக்கைகள் oru தங்கள் அறிவிப்பு மற்றும் செய்யலாமையை குடிப்பு வரையில் உள்ளன. இந்த நிரல் குறிப்பிடும் விளிவுக்கு மற்றும் முறையில் இம்மதுபிடிக்கப்படுகிறார்களுக்கு முக்கிய ஆண்டர்கள் உரைக்கும், புகைமிகர் ஐக்கிய சீர்ந்திரம் எனப் புகையின் அகாரக்களில் குறிப்புங்கள், வரையறைவுகள் உள்ளன. இந்த தொடக்கம் என EN.விளக்கக் காட்சிங்கள்மற்ற அந்த நுகரான செயலாக்கவும், இந்த செயலையின் வரிசை மற்றும் முறைகளை உள்ளடக்குகின்றது.\n"
     ]
    }
   ],
   "source": [
    "for cont in responses:\n",
    "    print(cont.content)"
   ]
  }
 ],
 "metadata": {
  "kernelspec": {
   "display_name": ".venv",
   "language": "python",
   "name": "python3"
  },
  "language_info": {
   "codemirror_mode": {
    "name": "ipython",
    "version": 3
   },
   "file_extension": ".py",
   "mimetype": "text/x-python",
   "name": "python",
   "nbconvert_exporter": "python",
   "pygments_lexer": "ipython3",
   "version": "3.9.6"
  }
 },
 "nbformat": 4,
 "nbformat_minor": 5
}
